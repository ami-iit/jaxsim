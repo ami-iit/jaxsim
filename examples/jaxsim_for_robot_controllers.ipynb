{
 "cells": [
  {
   "cell_type": "markdown",
   "metadata": {
    "id": "EhPy6FgiZH4d"
   },
   "source": [
    "# JaxSim for developing closed-loop robot controllers\n",
    "\n",
    "Originally developed as a **hardware-accelerated physics engine**, JaxSim has expanded its capabilities to become a full-featured **JAX-based multibody dynamics library**.\n",
    "\n",
    "In this notebook, you'll explore how to combine these two core features. Specifically, you'll learn how to load a robot model and design a model-based controller for closed-loop simulations.\n",
    "\n",
    "<a target=\"_blank\" href=\"https://colab.research.google.com/github/ami-iit/jaxsim/blob/main/examples/jaxsim_for_robot_controllers.ipynb\">\n",
    "  <img src=\"https://colab.research.google.com/assets/colab-badge.svg\" alt=\"Open In Colab\"/>\n",
    "</a>"
   ]
  },
  {
   "cell_type": "code",
   "execution_count": null,
   "metadata": {
    "id": "vsf1AlxdZH4f"
   },
   "outputs": [],
   "source": [
    "# @title Prepare the environment\n",
    "from IPython.display import clear_output\n",
    "import sys\n",
    "\n",
    "IS_COLAB = \"google.colab\" in sys.modules\n",
    "\n",
    "# Install JAX, sdformat, and other notebook dependencies.\n",
    "if IS_COLAB:\n",
    "    !{sys.executable} -m pip install --pre -qU jaxsim[viz]\n",
    "    !apt install -qq lsb-release wget gnupg\n",
    "    !wget https://packages.osrfoundation.org/gazebo.gpg -O /usr/share/keyrings/pkgs-osrf-archive-keyring.gpg\n",
    "    !echo \"deb [arch=$(dpkg --print-architecture) signed-by=/usr/share/keyrings/pkgs-osrf-archive-keyring.gpg] http://packages.osrfoundation.org/gazebo/ubuntu-stable $(lsb_release -cs) main\" | sudo tee /etc/apt/sources.list.d/gazebo-stable.list > /dev/null\n",
    "    !apt -qq update\n",
    "    !apt install -qq --no-install-recommends libsdformat13 gz-tools2\n",
    "\n",
    "    # Install dependencies for visualization on Colab and ReadTheDocs.\n",
    "    !apt -qq update\n",
    "    !apt install libosmesa6-dev\n",
    "    clear_output()\n",
    "\n",
    "# ================\n",
    "# Notebook imports\n",
    "# ================\n",
    "\n",
    "import os\n",
    "\n",
    "\n",
    "os.environ[\"MUJOCO_GL\"] = \"osmesa\"\n",
    "\n",
    "import jax\n",
    "import jax.numpy as jnp\n",
    "import jaxsim.mujoco\n",
    "from jaxsim import logging\n",
    "\n",
    "logging.set_logging_level(logging.LoggingLevel.WARNING)\n",
    "print(f\"Running on {jax.devices()}\")"
   ]
  },
  {
   "cell_type": "markdown",
   "metadata": {
    "id": "kN-b9nOsZH4g"
   },
   "source": [
    "We will use a simple cartpole model for this example. The cartpole model is a 2D model with a cart that can move horizontally and a pole that can rotate around the cart. The state of the cartpole is given by the position of the cart, the angle of the pole, the velocity of the cart, and the angular velocity of the pole. The control input is the horizontal force applied to the cart."
   ]
  },
  {
   "cell_type": "markdown",
   "metadata": {
    "id": "5aLqrZDqR5LA"
   },
   "source": [
    "## Prepare the simulation\n",
    "\n",
    "JaxSim supports loading robot models from both [SDF][sdformat] and [URDF][urdf] files, utilizing the [`ami-iit/rod`][rod] library for processing these formats.\n",
    "\n",
    "The `rod` library library can read URDF files and validates them internally using [`gazebosim/sdformat`][sdformat_github]. In this example, we'll load a cart-pole model, which will be used to create the JaxSim simulation model.\n",
    "\n",
    "[sdformat]: http://sdformat.org/\n",
    "[urdf]: http://wiki.ros.org/urdf/\n",
    "[rod]: https://github.com/ami-iit/rod\n",
    "[sdformat_github]: https://github.com/gazebosim/sdformat"
   ]
  },
  {
   "cell_type": "code",
   "execution_count": null,
   "metadata": {},
   "outputs": [],
   "source": [
    "import os\n",
    "\n",
    "os.path.abspath(\"\")"
   ]
  },
  {
   "cell_type": "code",
   "execution_count": null,
   "metadata": {
    "id": "PZM7hEvFZH4h"
   },
   "outputs": [],
   "source": [
    "# @title Load the URDF model\n",
    "import pathlib\n",
    "\n",
    "model_urdf_string = pathlib.Path(\n",
    "    os.path.abspath(\"\") + \"/assets/cartpole.urdf\"\n",
    ").read_text()"
   ]
  },
  {
   "cell_type": "code",
   "execution_count": null,
   "metadata": {
    "id": "M5XsKehvZH4j"
   },
   "outputs": [],
   "source": [
    "# @title Create the model and its data\n",
    "\n",
    "import jaxsim.api as js\n",
    "\n",
    "# Create the model from the model description.\n",
    "model = js.model.JaxSimModel.build_from_model_description(\n",
    "    model_description=model_urdf_string,\n",
    "    time_step=0.010,\n",
    ")\n",
    "\n",
    "# Create the data storing the simulation state.\n",
    "data_zero = js.data.JaxSimModelData.zero(model=model)"
   ]
  },
  {
   "cell_type": "code",
   "execution_count": null,
   "metadata": {
    "id": "jk9csR5ETgn1"
   },
   "outputs": [],
   "source": [
    "# @title Define simulation parameters\n",
    "\n",
    "# Initialize the simulated time.\n",
    "T = jnp.arange(start=0, stop=5.0, step=model.time_step)"
   ]
  },
  {
   "cell_type": "markdown",
   "metadata": {
    "id": "bo6Ke5nAWL-S"
   },
   "source": [
    "## Prepare the MuJoCo renderer\n",
    "\n",
    "For visualization purpose, we use the passive viewer of the MuJoCo simulator. It allows to either open an interactive windows when used locally or record a video when used in notebooks."
   ]
  },
  {
   "cell_type": "code",
   "execution_count": null,
   "metadata": {
    "id": "j1_I2i5TZH4n"
   },
   "outputs": [],
   "source": [
    "# Create the MJCF resources from the URDF.\n",
    "mjcf_string, assets = jaxsim.mujoco.UrdfToMjcf.convert(\n",
    "    urdf=model.built_from,\n",
    "    # Create the camera used by the recorder.\n",
    "    cameras=jaxsim.mujoco.loaders.MujocoCamera.build_from_target_view(\n",
    "        camera_name=\"cartpole_camera\",\n",
    "        lookat=js.link.com_position(\n",
    "            model=model,\n",
    "            data=data_zero,\n",
    "            link_index=js.link.name_to_idx(model=model, link_name=\"cart\"),\n",
    "            in_link_frame=False,\n",
    "        ),\n",
    "        distance=3,\n",
    "        azimut=150,\n",
    "        elevation=-10,\n",
    "    ),\n",
    ")\n",
    "\n",
    "# Create a helper to operate on the MuJoCo model and data.\n",
    "mj_model_helper = jaxsim.mujoco.MujocoModelHelper.build_from_xml(\n",
    "    mjcf_description=mjcf_string, assets=assets\n",
    ")\n",
    "\n",
    "# Create the video recorder.\n",
    "recorder = jaxsim.mujoco.MujocoVideoRecorder(\n",
    "    model=mj_model_helper.model,\n",
    "    data=mj_model_helper.data,\n",
    "    fps=int(1 / model.time_step),\n",
    "    width=320 * 2,\n",
    "    height=240 * 2,\n",
    ")"
   ]
  },
  {
   "cell_type": "markdown",
   "metadata": {
    "id": "DpRvvGujZH4o"
   },
   "source": [
    "## Open-loop simulation\n",
    "\n",
    "Now, let's run a simulation to demonstrate the open-loop dynamics of the system."
   ]
  },
  {
   "cell_type": "code",
   "execution_count": null,
   "metadata": {
    "id": "gSWzcsKWZH4p"
   },
   "outputs": [],
   "source": [
    "import mediapy as media\n",
    "\n",
    "\n",
    "# Create a random joint position.\n",
    "# For a random full state, you can use jaxsim.api.data.random_model_data.\n",
    "random_joint_positions = jax.random.uniform(\n",
    "    minval=-1.0,\n",
    "    maxval=1.0,\n",
    "    shape=(model.dofs(),),\n",
    "    key=jax.random.PRNGKey(0),\n",
    ")\n",
    "\n",
    "# Reset the state to the random joint positions.\n",
    "data = data_zero.reset_joint_positions(positions=random_joint_positions)\n",
    "\n",
    "\n",
    "for _ in T:\n",
    "\n",
    "    # Step the JaxSim simulation.\n",
    "    data, _ = js.model.step(\n",
    "        model=model,\n",
    "        data=data,\n",
    "        joint_force_references=None,\n",
    "        link_forces=None,\n",
    "    )\n",
    "\n",
    "    # Update the MuJoCo data.\n",
    "    mj_model_helper.set_joint_positions(\n",
    "        positions=data.joint_positions(), joint_names=model.joint_names()\n",
    "    )\n",
    "\n",
    "    # Record a new video frame.\n",
    "    recorder.record_frame(camera_name=\"cartpole_camera\")\n",
    "\n",
    "\n",
    "# Play the video.\n",
    "media.show_video(recorder.frames, fps=recorder.fps)\n",
    "recorder.frames = []"
   ]
  },
  {
   "cell_type": "markdown",
   "metadata": {
    "id": "j1rguK3UZH4p"
   },
   "source": [
    "## Closed-loop simulation\n",
    "\n",
    "Next, let's design a simple computed torque controller. The equations of motion for the cart-pole system are given by:\n",
    "\n",
    "$$\n",
    "M_{ss}(\\mathbf{s}) \\, \\ddot{\\mathbf{s}} + \\mathbf{h}_s(\\mathbf{s}, \\dot{\\mathbf{s}}) = \\boldsymbol{\\tau}\n",
    ",\n",
    "$$\n",
    "\n",
    "where:\n",
    "\n",
    "- $\\mathbf{s} \\in \\mathbb{R}^n$ are the joint positions.\n",
    "- $\\dot{\\mathbf{s}} \\in \\mathbb{R}^n$ are the joint velocities.\n",
    "- $\\ddot{\\mathbf{s}} \\in \\mathbb{R}^n$ are the joint accelerations.\n",
    "- $\\boldsymbol{\\tau} \\in \\mathbb{R}^n$ are the joint torques.\n",
    "- $M_{ss} \\in \\mathbb{R}^{n \\times n}$ is the mass matrix.\n",
    "- $\\mathbf{h}_s \\in \\mathbb{R}^n$ is the vector of bias forces.\n",
    "\n",
    "JaxSim computes these quantities for floating-base systems, so we specifically focus on the joint-related portions by marking them with subscripts.\n",
    "\n",
    "Since no external forces or joint friction are present, we can extend a PD controller with a feed-forward term that includes gravity compensation:\n",
    "\n",
    "$$\n",
    "\\begin{cases}\n",
    "\\boldsymbol{\\tau} &= M_{ss} \\, \\ddot{\\mathbf{s}}^* + \\mathbf{h}_s \\\\\n",
    "\\ddot{\\mathbf{s}}^* &= \\ddot{\\mathbf{s}}^\\text{des} - k_p(\\mathbf{s} - \\mathbf{s}^{\\text{des}}) - k_d(\\mathbf{s}^{\\text{des}} - \\dot{\\mathbf{s}}^{\\text{des}})\n",
    "\\end{cases}\n",
    "\\quad\n",
    ",\n",
    "$$\n",
    "\n",
    "where $\\tilde{\\mathbf{s}} = \\left(\\mathbf{s} - \\mathbf{s}^\\text{des}\\right)$ is the joint position error.\n",
    "\n",
    "With this control law, the closed-loop system dynamics simplifies to:\n",
    "\n",
    "$$\n",
    "\\ddot{\\tilde{\\mathbf{s}}} = -k_p \\tilde{\\mathbf{s}} - k_d \\dot{\\tilde{\\mathbf{s}}}\n",
    ",\n",
    "$$\n",
    "\n",
    "which converges asymptotically to zero, ensuring stability."
   ]
  },
  {
   "cell_type": "code",
   "execution_count": null,
   "metadata": {
    "id": "rfMTCMyGZH4q"
   },
   "outputs": [],
   "source": [
    "# @title Create the computed torque controller\n",
    "\n",
    "# Define the PD gains\n",
    "kp = 10.0\n",
    "kd = 6.0\n",
    "\n",
    "\n",
    "def computed_torque_controller(\n",
    "    data: js.data.JaxSimModelData,\n",
    "    s_des: jax.Array,\n",
    "    s_dot_des: jax.Array,\n",
    ") -> jax.Array:\n",
    "\n",
    "    # Compute the gravity compensation term.\n",
    "    hs = js.model.free_floating_bias_forces(model=model, data=data)[6:]\n",
    "\n",
    "    # Compute the joint-related portion of the floating-base mass matrix.\n",
    "    Mss = js.model.free_floating_mass_matrix(model=model, data=data)[6:, 6:]\n",
    "\n",
    "    # Get the current joint positions and velocities.\n",
    "    s = data.joint_positions()\n",
    "    ṡ = data.joint_velocities()\n",
    "\n",
    "    # Compute the actuated joint torques.\n",
    "    s_star = -kp * (s - s_des) - kd * (ṡ - s_dot_des)\n",
    "    τ = Mss @ s_star + hs\n",
    "\n",
    "    return τ"
   ]
  },
  {
   "cell_type": "markdown",
   "metadata": {
    "id": "ERAUisywZH4q"
   },
   "source": [
    "Now, we can use the `pd_controller` function to compute the torque to apply to the cartpole. Our aim is to stabilize the cartpole in the upright position, so we set the desired position `q_d` to 0 and the desired velocity `q_dot_d` to 0."
   ]
  },
  {
   "cell_type": "code",
   "execution_count": null,
   "metadata": {
    "id": "8YmDdGDVZH4q"
   },
   "outputs": [],
   "source": [
    "# @title Run the simulation\n",
    "\n",
    "# Initialize the data.\n",
    "# Set the joint positions.\n",
    "data = data_zero.reset_joint_positions(\n",
    "    model=model,\n",
    "    positions=jnp.array([-0.25, jnp.deg2rad(160)]),\n",
    ")\n",
    "\n",
    "# Set the joint velocities.\n",
    "data = data.reset_joint_velocities(\n",
    "    model=model,\n",
    "    velocities=jnp.array([3.00, jnp.deg2rad(10) / model.time_step]),\n",
    ")\n",
    "\n",
    "for _ in T:\n",
    "\n",
    "    # Get the actuated torques from the computed torque controller.\n",
    "    τ = computed_torque_controller(\n",
    "        data=data,\n",
    "        s_des=jnp.array([0.0, 0.0]),\n",
    "        s_dot_des=jnp.array([0.0, 0.0]),\n",
    "    )\n",
    "\n",
    "    # Step the JaxSim simulation.\n",
    "    data, _ = js.model.step(\n",
    "        model=model,\n",
    "        data=data,\n",
    "        joint_force_references=τ,\n",
    "    )\n",
    "\n",
    "    # Update the MuJoCo data.\n",
    "    mj_model_helper.set_joint_positions(\n",
    "        positions=data.joint_positions(), joint_names=model.joint_names()\n",
    "    )\n",
    "\n",
    "    # Record a new video frame.\n",
    "    recorder.record_frame(camera_name=\"cartpole_camera\")\n",
    "\n",
    "media.show_video(recorder.frames, fps=recorder.fps)\n",
    "recorder.frames = []"
   ]
  },
  {
   "cell_type": "markdown",
   "metadata": {
    "id": "sZ76QqeWeMQz"
   },
   "source": [
    "## Conclusions\n",
    "\n",
    "In this notebook, we explored how to use JaxSim for developing a closed-loop controller for a robot model. Key takeaways include:\n",
    "\n",
    "- We performed an open-loop simulation to understand the dynamics of the system without control.\n",
    "- We implemented a computed torque controller with PD feedback and a feed-forward gravity compensation term, enabling the stabilization of the system by controlling joint torques.\n",
    "- The closed-loop simulation can leverage hardware acceleration on GPUs and TPUs, with the ability to use `jax.vmap` for parallel sampling through automatic vectorization.\n",
    "\n",
    "JaxSim's closed-loop support can be extended to more advanced, model-based reactive controllers and planners for trajectory optimization. To explore optimization-based methods, consider the following JAX-based projects for hardware-accelerated control and planning:\n",
    "\n",
    "- [`deepmind/optax`](https://github.com/google-deepmind/optax)\n",
    "- [`google/jaxopt`](https://github.com/google/jaxopt)\n",
    "- [`patrick-kidger/lineax`](https://github.com/patrick-kidger/lineax)\n",
    "- [`patrick-kidger/optimistix`](https://github.com/patrick-kidger/optimistix)\n",
    "- [`kevin-tracy/qpax`](https://github.com/kevin-tracy/qpax)\n",
    "\n",
    "Additionally, if your controllers or planners require the derivatives of the dynamics with respect to the state or inputs, you can obtain them using automatic differentiation directly through JaxSim's API."
   ]
  }
 ],
 "metadata": {
  "colab": {
   "gpuClass": "premium",
   "private_outputs": true,
   "provenance": [],
   "toc_visible": true
  },
  "kernelspec": {
   "display_name": "jaxsim",
   "language": "python",
   "name": "python3"
  },
  "language_info": {
   "codemirror_mode": {
    "name": "ipython",
    "version": 3
   },
   "file_extension": ".py",
   "mimetype": "text/x-python",
   "name": "python",
   "nbconvert_exporter": "python",
   "pygments_lexer": "ipython3",
   "version": "3.12.7"
  }
 },
 "nbformat": 4,
 "nbformat_minor": 0
}
