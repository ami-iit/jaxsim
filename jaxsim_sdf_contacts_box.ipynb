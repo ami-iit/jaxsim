{
 "cells": [
  {
   "cell_type": "markdown",
   "metadata": {
    "id": "H-WgcgGQaTG7"
   },
   "source": [
    "# JaxSim as a hardware-accelerated parallel physics engine-advanced usage\n",
    "\n",
    "JaxSim is developed to optimize synthetic data generation by sampling trajectories using hardware accelerators such as GPUs and TPUs.\n",
    "\n",
    "In this notebook, you'll learn how to use the key APIs to load a simple robot model (a sphere) and simulate multiple trajectories in parallel on GPUs.\n",
    "\n",
    "<a target=\"_blank\" href=\"https://colab.research.google.com/github/ami-iit/jaxsim/blob/main/examples/jaxsim_as_physics_engine_advanced.ipynb\">\n",
    "  <img src=\"https://colab.research.google.com/assets/colab-badge.svg\" alt=\"Open In Colab\"/>\n",
    "</a>"
   ]
  },
  {
   "cell_type": "markdown",
   "metadata": {
    "id": "SgOSnrSscEkt"
   },
   "source": [
    "## Prepare the environment"
   ]
  },
  {
   "cell_type": "code",
   "execution_count": null,
   "metadata": {
    "id": "fdqvAqMDaTG9"
   },
   "outputs": [],
   "source": [
    "# @title Imports and setup\n",
    "# import sys\n",
    "\n",
    "# ================\n",
    "# Notebook imports\n",
    "# ================\n",
    "\n",
    "# import os\n",
    "\n",
    "# if sys.platform == 'darwin':\n",
    "#     os.environ[\"MUJOCO_GL\"] = \"glfw\"\n",
    "# else:\n",
    "#     os.environ[\"MUJOCO_GL\"] = \"egl\"\n",
    "\n",
    "import jax\n",
    "\n",
    "import jax.numpy as jnp\n",
    "import jaxsim.api as js\n",
    "import rod\n",
    "from jaxsim import logging\n",
    "from rod.builder.primitives import BoxBuilder\n",
    "\n",
    "logging.set_logging_level(logging.LoggingLevel.WARNING)\n",
    "print(f\"Running on {jax.devices()}\")"
   ]
  },
  {
   "cell_type": "markdown",
   "metadata": {
    "id": "QtCCUhdpdGFH"
   },
   "source": [
    "## Prepare the simulation\n",
    "\n",
    "JaxSim supports loading robot descriptions from both [SDF][sdformat] and [URDF][urdf] files. This is done using the [`ami-iit/rod`][rod] library, which processes these formats.\n",
    "\n",
    "The `rod` library also allows creating in-memory models that can be serialized to SDF or URDF. We'll use this functionality to build a sphere model, which will later be used to create the JaxSim model.\n",
    "\n",
    "[sdformat]: http://sdformat.org/\n",
    "[urdf]: http://wiki.ros.org/urdf/\n",
    "[rod]: https://github.com/ami-iit/rod"
   ]
  },
  {
   "cell_type": "code",
   "execution_count": null,
   "metadata": {
    "cellView": "form",
    "id": "0emoMQhCaTG_"
   },
   "outputs": [],
   "source": [
    "# @title Create the model description of a box\n",
    "\n",
    "# Create a SDF model.\n",
    "# The builder takes care to compute the right inertia tensor for you.\n",
    "rod_sdf = rod.Sdf(\n",
    "    version=\"1.7\",\n",
    "    model=BoxBuilder(x=0.2, y=0.3, z=0.1, mass=1.0, name=\"box\")\n",
    "    .build_model()\n",
    "    .add_link()\n",
    "    .add_inertial()\n",
    "    .add_visual()\n",
    "    .add_collision()\n",
    "    .build(),\n",
    ")\n",
    "\n",
    "# Rod allows to update the frames w.r.t. the poses are expressed.\n",
    "rod_sdf.model.switch_frame_convention(\n",
    "    frame_convention=rod.FrameConvention.Urdf, explicit_frames=True\n",
    ")\n",
    "\n",
    "# Serialize the model to a SDF string.\n",
    "model_sdf_string = rod_sdf.serialize(pretty=True)\n",
    "print(model_sdf_string)"
   ]
  },
  {
   "cell_type": "code",
   "execution_count": null,
   "metadata": {
    "id": "etQ577cFaTHA"
   },
   "outputs": [],
   "source": [
    "import jaxsim\n",
    "\n",
    "# Create the JaxSim model.\n",
    "# This is shared among all the parallel instances.\n",
    "model = js.model.JaxSimModel.build_from_model_description(\n",
    "    model_description=rod_sdf,\n",
    "    time_step=0.001,\n",
    "    contact_model=jaxsim.rbda.contacts.SoftContacts(),\n",
    ")\n",
    "\n",
    "# Create the data of a single model.\n",
    "# We will create a vectorized instance later.\n",
    "# data = js.data.JaxSimModelData.build(\n",
    "#     model=model, base_position=jnp.array([0.0, 0.0, 0.11])\n",
    "# )\n",
    "data = js.data.random_model_data(\n",
    "    model=model,\n",
    "    key=jax.random.PRNGKey(0),\n",
    "    base_pos_bounds=([0, -1, 0.2], [0, 1, 0.3]),\n",
    "    base_vel_lin_bounds=(0, 0),\n",
    "    base_vel_ang_bounds=(0, 0),\n",
    ")"
   ]
  },
  {
   "cell_type": "code",
   "execution_count": null,
   "metadata": {},
   "outputs": [],
   "source": [
    "model.kin_dyn_parameters.contact_parameters"
   ]
  },
  {
   "cell_type": "code",
   "execution_count": null,
   "metadata": {
    "id": "o86Teq5piVGj"
   },
   "outputs": [],
   "source": [
    "T = jnp.arange(\n",
    "    start=0, stop=3.0, step=model.time_step\n",
    ")  # Initialize the simulated time."
   ]
  },
  {
   "cell_type": "code",
   "execution_count": null,
   "metadata": {},
   "outputs": [],
   "source": [
    "from jaxsim.rbda.contacts import detection, SoftContacts\n",
    "\n",
    "K = 1e5\n",
    "D = 1e3\n",
    "mu = μ = 1.0\n",
    "\n",
    "p = 0.5\n",
    "q = 0.5\n",
    "\n",
    "\n",
    "def generate_contact_force(model, data):\n",
    "\n",
    "    # TODO: This is for a single collision pair.\n",
    "\n",
    "    m = jnp.array(data.contact_state[\"tangential_deformation\"], dtype=float).squeeze()\n",
    "\n",
    "    # TODO: The transform of the root link does not match with the actual base position.\n",
    "    # For this reason, we use the base position instead of the first link transform.\n",
    "    W_H_L, W_ṗ_L = data._link_transforms[0], data._link_velocities[:][0]\n",
    "\n",
    "    # Compute the distance and the contact frame transform.\n",
    "    distance, W_H_C = detection.box_plane(\n",
    "        model.terrain,\n",
    "        model.kin_dyn_parameters.contact_parameters.shape_size.squeeze(),\n",
    "        W_H_L,\n",
    "    )\n",
    "\n",
    "    W_p_C = W_H_C[:, :3, 3]\n",
    "    # n̂ = W_H_C[:, :3, 2]\n",
    "\n",
    "    def process_shape_kinematics(W_p_Ci):\n",
    "\n",
    "        # Compute the velocity of the contact points.\n",
    "        CW_ṗ_Ci = (\n",
    "            jnp.block([jnp.eye(3), -jaxsim.math.Skew.wedge(vector=W_p_Ci).squeeze()])\n",
    "            @ W_ṗ_L\n",
    "        )\n",
    "\n",
    "        return CW_ṗ_Ci\n",
    "\n",
    "    # Process all the collidable shapes in parallel.\n",
    "    CW_ṗ_C = jax.vmap(process_shape_kinematics)(W_H_C[:, :3, 3])\n",
    "\n",
    "    normal = W_H_C[:, :3, 2]\n",
    "    W_p_C = W_H_C[:, :3, 3]\n",
    "    CW_ṗ_C = jax.vmap(\n",
    "        lambda W_p_Ci: jnp.block(\n",
    "            [jnp.eye(3), -jaxsim.math.Skew.wedge(vector=W_p_Ci).squeeze()]\n",
    "        )\n",
    "        @ W_ṗ_L\n",
    "    )(W_p_C)\n",
    "\n",
    "    # Ensure non-negative distance.\n",
    "    δ = jax.vmap(lambda l: jnp.maximum(0.0, -l))(distance)\n",
    "\n",
    "    # Extract the contact velocity.\n",
    "    δ̇ = -jax.vmap(jnp.dot)(CW_ṗ_C, normal)\n",
    "    δ̇ = jnp.where(δ > 0, δ̇, 0.0)\n",
    "\n",
    "    CW_fl, ṁ = jax.vmap(\n",
    "        SoftContacts.hunt_crossley_contact_model,\n",
    "        in_axes=(0, 0, 0, 0, None, None, None, None, None, None),\n",
    "    )(δ, δ̇, CW_ṗ_C, normal, m, K, D, mu, p, q)\n",
    "\n",
    "    # Pack a mixed 6D force.\n",
    "    CW_f = jnp.zeros((CW_fl.shape[0], 6)).at[:, :3].set(CW_fl)\n",
    "\n",
    "    # Compute the 6D force transform from the mixed to the inertial-fixed frame.\n",
    "    W_Xf_CW = jax.vmap(\n",
    "        lambda C_p_L: jaxsim.math.Adjoint.from_rotation_and_translation(\n",
    "            translation=C_p_L, inverse=True\n",
    "        ).T\n",
    "    )(W_H_C[:, :3, 3])\n",
    "\n",
    "    # Compute the 6D force in the inertial-fixed frame.\n",
    "    W_f_C = jnp.einsum(\"...ij,...j->...i\", W_Xf_CW, CW_f)\n",
    "\n",
    "    return jnp.sum(W_f_C, axis=0), {\"tangential_deformation\": jnp.mean(ṁ, axis=0)}"
   ]
  },
  {
   "cell_type": "code",
   "execution_count": null,
   "metadata": {
    "id": "vtEn0aIzr_2j"
   },
   "outputs": [],
   "source": [
    "# @title Generate batched initial data\n",
    "\n",
    "# Create a random JAX key.\n",
    "key = jax.random.PRNGKey(seed=0)\n",
    "\n",
    "# Split subkeys for sampling random initial data.\n",
    "batch_size = 9\n",
    "row_length = int(jnp.sqrt(batch_size))\n",
    "row_dist = 0.3 * row_length\n",
    "key, *subkeys = jax.random.split(key=key, num=batch_size + 1)\n",
    "\n",
    "# Create the batched data by sampling the height from [0.5, 0.6] meters.\n",
    "data_batch_t0 = jax.vmap(\n",
    "    lambda key: js.data.random_model_data(\n",
    "        model=model,\n",
    "        key=key,\n",
    "        base_pos_bounds=([0, 0, 0.1], [0, 0, 0.5]),\n",
    "        base_vel_lin_bounds=(-1.5, 1.5),\n",
    "        base_vel_ang_bounds=(-1.5, 1.5),\n",
    "    )\n",
    ")(jnp.vstack(subkeys))\n",
    "\n",
    "x, y = jnp.meshgrid(\n",
    "    jnp.linspace(-row_dist, row_dist, num=row_length),\n",
    "    jnp.linspace(-row_dist, row_dist, num=row_length),\n",
    ")\n",
    "xy_coordinate = jnp.stack([x.flatten(), y.flatten()], axis=-1)\n",
    "\n",
    "# Reset the x and y position to a grid.\n",
    "data_batch_t0 = data_batch_t0.replace(\n",
    "    model=model,\n",
    "    base_position=data_batch_t0.base_position.at[:, :2].set(xy_coordinate),\n",
    ")\n",
    "\n",
    "print(\"W_p_B(t0)=\\n\", data_batch_t0.base_position[0:10])"
   ]
  },
  {
   "cell_type": "code",
   "execution_count": null,
   "metadata": {
    "id": "0tQPfsl6uxHm"
   },
   "outputs": [],
   "source": [
    "# @title Create parallel step function\n",
    "\n",
    "import functools\n",
    "from typing import Any\n",
    "\n",
    "\n",
    "@jax.jit\n",
    "def step_single(\n",
    "    model: js.model.JaxSimModel,\n",
    "    data: js.data.JaxSimModelData,\n",
    ") -> tuple[js.data.JaxSimModelData, dict[str, Any]]:\n",
    "\n",
    "    # BW_f_C, new_contact_state = generate_contact_force(model=model, data=data)\n",
    "\n",
    "    # W_f_C = ModelDataWithVelocityRepresentation.inertial_to_other_representation(\n",
    "    #     array=BW_f_C,\n",
    "    #     transform=data.base_transform,\n",
    "    #     other_representation=VelRepr.Mixed,\n",
    "    #     is_force=True,\n",
    "    # )\n",
    "\n",
    "    # Close step over static arguments.\n",
    "    return js.model.step(\n",
    "        model=model,\n",
    "        data=data,\n",
    "        # link_forces=W_f_C,\n",
    "        joint_force_references=None,\n",
    "    )\n",
    "\n",
    "\n",
    "@jax.jit\n",
    "@functools.partial(jax.vmap, in_axes=(None, 0))\n",
    "def step_parallel(\n",
    "    model: js.model.JaxSimModel,\n",
    "    data: js.data.JaxSimModelData,\n",
    ") -> tuple[js.data.JaxSimModelData, dict[str, Any]]:\n",
    "\n",
    "    return step_single(\n",
    "        model=model,\n",
    "        data=data,\n",
    "    )\n",
    "\n",
    "\n",
    "# The first run will be slow since JAX needs to JIT-compile the functions.\n",
    "_ = step_single(model, data)\n",
    "_ = step_parallel(model, data_batch_t0)\n",
    "\n",
    "# Benchmark the execution of a single step.\n",
    "print(\"\\nSingle simulation step:\")\n",
    "%timeit step_single(model, data)\n",
    "\n",
    "# On hardware accelerators, there's a range of batch_size values where\n",
    "# increasing the number of parallel instances doesn't affect computation time.\n",
    "# This range depends on the GPU/TPU specifications.\n",
    "print(f\"\\nParallel simulation steps (batch_size={batch_size} on {jax.devices()[0]}):\")\n",
    "%timeit step_parallel(model, data_batch_t0)"
   ]
  },
  {
   "cell_type": "code",
   "execution_count": null,
   "metadata": {
    "id": "VNwzT2JQ1n15"
   },
   "outputs": [],
   "source": [
    "# @title Run parallel simulation\n",
    "\n",
    "data_trajectory_list = []\n",
    "TIME_STOP = 3000\n",
    "\n",
    "for _ in T[:TIME_STOP]:\n",
    "\n",
    "    with jax.disable_jit(False):\n",
    "        # data = step_single(model, data)\n",
    "        # data_trajectory_list.append(data)\n",
    "        print(f\"{int(_ * 1000 + 1)}/{TIME_STOP}\", end=\"\\r\")\n",
    "\n",
    "        # with jax.debug_nans(), jax.debug_infs():\n",
    "        data_batch_t0 = step_parallel(model, data_batch_t0)\n",
    "        data_trajectory_list.append(data_batch_t0)"
   ]
  },
  {
   "cell_type": "markdown",
   "metadata": {
    "id": "Y6n720Cr3G44"
   },
   "source": [
    "## Visualize trajectory"
   ]
  },
  {
   "cell_type": "code",
   "execution_count": null,
   "metadata": {
    "id": "BLPODyKr3Lyg"
   },
   "outputs": [],
   "source": [
    "# Convert a list of PyTrees to a batched PyTree.\n",
    "# This operation is called 'tree transpose' in JAX.\n",
    "data_trajectory = jax.tree.map(lambda *leafs: jnp.stack(leafs), *data_trajectory_list)\n",
    "\n",
    "print(f\"W_p_B: shape={data_trajectory.base_position.shape}\")"
   ]
  },
  {
   "cell_type": "code",
   "execution_count": null,
   "metadata": {
    "id": "-jxJXy5r3RMt"
   },
   "outputs": [],
   "source": [
    "import matplotlib.pyplot as plt\n",
    "\n",
    "\n",
    "plt.plot(\n",
    "    T[:TIME_STOP],\n",
    "    # data_trajectory.base_position[:TIME_STOP, 2],\n",
    "    data_trajectory.base_position[:TIME_STOP, :, 2],\n",
    "    label=[f\"Box_{k}\" for k in range(batch_size)],\n",
    ")\n",
    "plt.legend(loc=\"upper left\")\n",
    "plt.grid(True)\n",
    "plt.xlabel(\"Time [s]\")\n",
    "plt.ylabel(\"Height [m]\")\n",
    "plt.title(\"Height trajectory of the boxes\")\n",
    "plt.show()"
   ]
  },
  {
   "cell_type": "code",
   "execution_count": null,
   "metadata": {},
   "outputs": [],
   "source": [
    "if locals().get(\"recorder\") is not None:\n",
    "    del recorder"
   ]
  },
  {
   "cell_type": "code",
   "execution_count": null,
   "metadata": {},
   "outputs": [],
   "source": [
    "import jaxsim.mujoco\n",
    "\n",
    "mjcf_string, assets = jaxsim.mujoco.ModelToMjcf.convert(\n",
    "    model.built_from.model,\n",
    "    cameras=jaxsim.mujoco.loaders.MujocoCamera.build_from_target_view(\n",
    "        camera_name=\"box_cam\",\n",
    "        lookat=[0, 0, 0.3],\n",
    "        distance=4,\n",
    "        azimuth=150,\n",
    "        elevation=-10,\n",
    "    ),\n",
    ")\n",
    "\n",
    "# Create a helper for each parallel instance.\n",
    "mj_model_helpers = [\n",
    "    jaxsim.mujoco.MujocoModelHelper.build_from_xml(\n",
    "        mjcf_description=mjcf_string, assets=assets\n",
    "    )\n",
    "    for _ in range(batch_size)\n",
    "]\n",
    "# mj_model_helpers = jaxsim.mujoco.MujocoModelHelper.build_from_xml(\n",
    "#     mjcf_description=mjcf_string, assets=assets\n",
    "# )\n",
    "\n",
    "# Create the video recorder.\n",
    "recorder = jaxsim.mujoco.MujocoVideoRecorder(\n",
    "    # model=mj_model_helpers.model,\n",
    "    # data=mj_model_helpers.data,\n",
    "    model=mj_model_helpers[0].model,\n",
    "    data=[helper.data for helper in mj_model_helpers],\n",
    "    fps=60,\n",
    "    width=320 * 2,\n",
    "    height=240 * 2,\n",
    ")\n",
    "\n",
    "for data_t in data_trajectory_list[:TIME_STOP][:: int(1 / model.time_step / 60)]:\n",
    "\n",
    "    # mj_model_helpers.set_base_position(position=data_t.base_position)\n",
    "    # mj_model_helpers.set_base_orientation(orientation=data_t.base_quaternion)\n",
    "\n",
    "    # if model.dofs() > 0:\n",
    "    #     mj_model_helpers.set_joint_positions(\n",
    "    #         positions=data_t.joint_positions, joint_names=model.joint_names()\n",
    "    #     )\n",
    "\n",
    "    for helper, base_position, base_quaternion, joint_position in zip(\n",
    "        mj_model_helpers,\n",
    "        data_t.base_position,\n",
    "        data_t.base_orientation,\n",
    "        data_t.joint_positions,\n",
    "        strict=True,\n",
    "    ):\n",
    "        helper.set_base_position(position=base_position)\n",
    "        helper.set_base_orientation(orientation=base_quaternion)\n",
    "\n",
    "        if model.dofs() > 0:\n",
    "            helper.set_joint_positions(\n",
    "                positions=joint_position, joint_names=model.joint_names()\n",
    "            )\n",
    "\n",
    "    # Record a new video frame.\n",
    "    recorder.record_frame(camera_name=\"box_cam\")"
   ]
  },
  {
   "cell_type": "code",
   "execution_count": null,
   "metadata": {},
   "outputs": [],
   "source": [
    "import mediapy as media\n",
    "\n",
    "media.show_video(recorder.frames, fps=recorder.fps)"
   ]
  },
  {
   "cell_type": "markdown",
   "metadata": {},
   "source": []
  }
 ],
 "metadata": {
  "accelerator": "GPU",
  "colab": {
   "gpuClass": "premium",
   "private_outputs": true,
   "provenance": [],
   "toc_visible": true
  },
  "kernelspec": {
   "display_name": "default",
   "language": "python",
   "name": "python3"
  },
  "language_info": {
   "codemirror_mode": {
    "name": "ipython",
    "version": 3
   },
   "file_extension": ".py",
   "mimetype": "text/x-python",
   "name": "python",
   "nbconvert_exporter": "python",
   "pygments_lexer": "ipython3",
   "version": "3.13.7"
  }
 },
 "nbformat": 4,
 "nbformat_minor": 0
}
