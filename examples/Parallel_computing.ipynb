{
 "cells": [
  {
   "cell_type": "markdown",
   "metadata": {},
   "source": [
    "# `JAXsim` Showcase: Parallel Simulation of a free-falling body"
   ]
  },
  {
   "cell_type": "markdown",
   "metadata": {},
   "source": [
    "First, we install the necessary packages and import them."
   ]
  },
  {
   "cell_type": "code",
   "execution_count": null,
   "metadata": {},
   "outputs": [],
   "source": [
    "# @title Imports and setup\n",
    "import sys\n",
    "import os\n",
    "import pathlib\n",
    "\n",
    "# Deactivate GPU to avoid out of memory errors\n",
    "os.environ[\"CUDA_VISIBLE_DEVICES\"] = \"\"\n",
    "\n",
    "from IPython.display import HTML, clear_output, display\n",
    "\n",
    "IS_COLAB = \"google.colab\" in sys.modules\n",
    "\n",
    "# Install JAX and Gazebo\n",
    "if IS_COLAB:\n",
    "    !{sys.executable} -m pip install -qU jaxsim\n",
    "    !apt install -qq lsb-release wget gnupg\n",
    "    !wget https://packages.osrfoundation.org/gazebo.gpg -O /usr/share/keyrings/pkgs-osrf-archive-keyring.gpg\n",
    "    !echo \"deb [arch=$(dpkg --print-architecture) signed-by=/usr/share/keyrings/pkgs-osrf-archive-keyring.gpg] http://packages.osrfoundation.org/gazebo/ubuntu-stable $(lsb_release -cs) main\" | sudo tee /etc/apt/sources.list.d/gazebo-stable.list > /dev/null\n",
    "    !apt -qq update\n",
    "    !apt install -qq --no-install-recommends libsdformat13 gz-tools2\n",
    "\n",
    "# Set environment variable to avoid GPU out of memory errors\n",
    "%env XLA_PYTHON_CLIENT_MEM_PREALLOCATE=false\n",
    "\n",
    "import time\n",
    "from typing import Dict, Tuple\n",
    "\n",
    "import jax\n",
    "import jax.numpy as jnp\n",
    "import jax_dataclasses\n",
    "import rod\n",
    "from rod.builder.primitives import SphereBuilder, BoxBuilder\n",
    "\n",
    "import jaxsim.typing as jtp\n",
    "from jaxsim import logging\n",
    "from jaxsim.api.common import VelRepr\n",
    "\n",
    "from jaxsim.mujoco import (\n",
    "    MujocoVideoRecorder,\n",
    "    MujocoModelHelper,\n",
    "    RodModelToMjcf,\n",
    "    SdfToMjcf,\n",
    "    UrdfToMjcf,\n",
    ")\n",
    "\n",
    "logging.set_logging_level(logging.LoggingLevel.INFO)\n",
    "logging.info(f\"Running on {jax.devices()}\")"
   ]
  },
  {
   "cell_type": "markdown",
   "metadata": {},
   "source": [
    "We will use a simple sphere model to simulate a free-falling body. The spheres set will be composed of 9 spheres, each with a different position. The spheres will be simulated in parallel, and the simulation will be run for 3000 steps corresponding to 3 seconds of simulation.\n",
    "\n",
    "**Note**: Parallel simulations are independent of each other, the different position is imposed only to show the parallelization visually."
   ]
  },
  {
   "cell_type": "code",
   "execution_count": null,
   "metadata": {},
   "outputs": [],
   "source": [
    "# @title Create a sphere model\n",
    "model_sdf_string = rod.Sdf(\n",
    "    version=\"1.7\",\n",
    "    # model=BoxBuilder(x=0.30, y=0.30, z=0.30, mass=1.0, name=\"box\")\n",
    "    model=SphereBuilder(radius=0.15, mass=1.0, name=\"sphere\")\n",
    "    .build_model()\n",
    "    .add_link()\n",
    "    .add_inertial()\n",
    "    .add_visual()\n",
    "    .add_collision()\n",
    "    .build(),\n",
    ").serialize(pretty=True)\n",
    "# import urllib\n",
    "\n",
    "# url = \"https://raw.githubusercontent.com/icub-tech-iit/ergocub-gazebo-simulations/master/models/stickBot/model.urdf\"\n",
    "\n",
    "# model_sdf_string = urllib.request.urlopen(url).read().decode()\n",
    "# # model_sdf_string = pathlib.Path(\"/home/flferretti/git/element_rl-for-codesign/assets/model/hopper.sdf\")"
   ]
  },
  {
   "cell_type": "markdown",
   "metadata": {},
   "source": [
    "JAXsim offers a simple functional API in order to interact in a memory-efficient way with the simulation. Four main elements are used to define a simulation:\n",
    "\n",
    "- `model`: an object that defines the dynamics of the system.\n",
    "- `data`: an object that contains the state of the system.\n",
    "- `integrator`: an object that defines the integration method.\n",
    "- `integrator_state`: an object that contains the state of the integrator."
   ]
  },
  {
   "cell_type": "code",
   "execution_count": null,
   "metadata": {},
   "outputs": [],
   "source": [
    "import jaxsim.api as js\n",
    "from jaxsim import integrators\n",
    "import jaxsim\n",
    "\n",
    "dt = 0.001\n",
    "integration_time = 1500\n",
    "\n",
    "model = js.model.JaxSimModel.build_from_model_description(\n",
    "    model_description=model_sdf_string,\n",
    "    contact_model=js.rigid_contacts.RigidContacts(),\n",
    "    is_urdf=True,\n",
    ")\n",
    "\n",
    "model = js.model.reduce(\n",
    "    model=model,\n",
    "    considered_joints=tuple(\n",
    "        [\n",
    "            j\n",
    "            for j in model.joint_names()\n",
    "            if \"camera\" not in j\n",
    "            and \"neck\" not in j\n",
    "            and \"wrist\" not in j\n",
    "            and \"thumb\" not in j\n",
    "            and \"index\" not in j\n",
    "            and \"middle\" not in j\n",
    "            and \"ring\" not in j\n",
    "            and \"pinkie\" not in j\n",
    "            and \"elbow\" not in j\n",
    "            and \"shoulder\" not in j\n",
    "            and \"hip\" not in j\n",
    "            and \"knee\" not in j\n",
    "            and \"lidar\" not in j\n",
    "            and \"torso\" not in j\n",
    "        ]\n",
    "    ),\n",
    ")\n",
    "model = js.model.reduce(model=model, considered_joints=tuple())\n",
    "\n",
    "data = js.data.JaxSimModelData.build(\n",
    "    model=model, velocity_representation=VelRepr.Inertial\n",
    ")\n",
    "integrator = integrators.fixed_step.RungeKutta4SO3.build(\n",
    "    dynamics=js.ode.wrap_system_dynamics_for_integration(\n",
    "        model=model,\n",
    "        data=data,\n",
    "        system_dynamics=js.ode.system_dynamics,\n",
    "    ),\n",
    ")\n",
    "# with jax.disable_jit():\n",
    "integrator_state = integrator.init(x0=data.state, t0=0.0, dt=dt)"
   ]
  },
  {
   "cell_type": "code",
   "execution_count": null,
   "metadata": {},
   "outputs": [],
   "source": [
    "mcjf_string, assets = UrdfToMjcf.convert(urdf=model_sdf_string)\n",
    "mj_helper = MujocoModelHelper.build_from_xml(\n",
    "    mjcf_description=mcjf_string, assets=assets\n",
    ")\n",
    "recorder = MujocoVideoRecorder(\n",
    "    model=mj_helper.model, data=mj_helper.data, fps=int(1 / dt), width=640, height=480\n",
    ")"
   ]
  },
  {
   "cell_type": "markdown",
   "metadata": {},
   "source": [
    "It is possible to automatically choose a good set of parameters for the terrain. \n",
    "\n",
    "By default, in JaxSim a sphere primitive has 250 collision points. This can be modified by setting the `JAXSIM_COLLISION_SPHERE_POINTS` environment variable.\n",
    "\n",
    "Given that at its steady-state the sphere will act on two or three points, we can estimate the ground parameters by explicitly setting the number of active points to these values."
   ]
  },
  {
   "cell_type": "code",
   "execution_count": null,
   "metadata": {},
   "outputs": [],
   "source": [
    "# data = data.replace(\n",
    "#     soft_contacts_params=js.contact.estimate_good_soft_contacts_parameters(\n",
    "#         model, number_of_active_collidable_points_steady_state=3\n",
    "#     )\n",
    "# )"
   ]
  },
  {
   "cell_type": "markdown",
   "metadata": {},
   "source": [
    "Let's create a position vector for a 3x3 grid. Every sphere will be placed at a different height."
   ]
  },
  {
   "cell_type": "code",
   "execution_count": null,
   "metadata": {},
   "outputs": [],
   "source": [
    "# Primary Calculations\n",
    "envs_per_row = 1  # @slider(2, 10, 1)\n",
    "initial_height = 0.7\n",
    "env_spacing = 0.5\n",
    "edge_len = env_spacing * (2 * envs_per_row - 1)\n",
    "\n",
    "\n",
    "# Create Grid\n",
    "def grid(edge_len, envs_per_row):\n",
    "    edge = jnp.linspace(-edge_len, edge_len, envs_per_row)\n",
    "    xx, yy = jnp.meshgrid(edge, edge)\n",
    "\n",
    "    poses = [\n",
    "        [[xx[i, j], yy[i, j], initial_height], [0, 0, 0]]\n",
    "        for i in range(xx.shape[0])\n",
    "        for j in range(yy.shape[0])\n",
    "    ]\n",
    "\n",
    "    return jnp.array(poses)\n",
    "\n",
    "\n",
    "logging.info(f\"Simulating {envs_per_row**2} environments\")\n",
    "poses = grid(edge_len, envs_per_row)"
   ]
  },
  {
   "cell_type": "markdown",
   "metadata": {},
   "source": [
    "In order to parallelize the simulation, we first need to define a function `simulate` for a single element of the batch."
   ]
  },
  {
   "cell_type": "code",
   "execution_count": null,
   "metadata": {},
   "outputs": [],
   "source": [
    "# Define a function to simulate a single model instance\n",
    "def simulate(\n",
    "    data: js.data.JaxSimModelData, integrator_state: dict, pose: jnp.array\n",
    ") -> tuple:\n",
    "\n",
    "    data = data.reset_base_position(base_position=pose)\n",
    "    x_t_i = []\n",
    "    forces = []\n",
    "\n",
    "    S = jnp.block([jnp.zeros(shape=(model.dofs(), 6)), jnp.eye(model.dofs())]).T\n",
    "    τ = jnp.zeros(model.dofs())\n",
    "\n",
    "    # l_foot = model.link_names().index(\"l_ankle_2\")\n",
    "    # r_foot = model.link_names().index(\"r_ankle_2\")\n",
    "\n",
    "    for _ in range(integration_time):\n",
    "        F = []\n",
    "\n",
    "        h = js.model.free_floating_bias_forces(model=model, data=data)\n",
    "\n",
    "        M = js.model.free_floating_mass_matrix(model=model, data=data)\n",
    "\n",
    "        J̇ν = js.model.link_bias_accelerations(model=model, data=data)\n",
    "\n",
    "        M_inv = jnp.linalg.inv(M)\n",
    "\n",
    "        # idxs = (0,) # (l_foot, r_foot)\n",
    "        # O_JL = jax.vmap(\n",
    "        #     lambda body: js.link.jacobian(\n",
    "        #         model=model,\n",
    "        #         data=data,\n",
    "        #         link_index=body,\n",
    "        #         # output_vel_repr=VelRepr.Inertial,\n",
    "        #     )\n",
    "        #     )(jnp.array(idxs))\n",
    "        O_JL = js.link.jacobian(\n",
    "            model=model,\n",
    "            data=data,\n",
    "            link_index=0,\n",
    "            output_vel_repr=VelRepr.Mixed,\n",
    "        )\n",
    "\n",
    "        # O_JL = O_JL.reshape(6 * len(idxs), 10)\n",
    "\n",
    "        # W_H_L = js.link.transform(model=model, data=data, link_index=body)\n",
    "        # W_X_L = jaxsim.math.Adjoint.from_transform(W_H_L).T\n",
    "        # F = -jnp.linalg.inv(O_JL @ M_inv @ O_JL.T) @ (\n",
    "        #         J̇ν[l_foot:r_foot+1].ravel() + O_JL @ M_inv @ (S @ τ - h)\n",
    "        #     )\n",
    "        F = -jnp.linalg.inv(O_JL.squeeze() @ M_inv @ O_JL.squeeze().T) @ (\n",
    "            J̇ν[0] + O_JL.squeeze() @ M_inv @ (S @ τ - h)\n",
    "        )\n",
    "\n",
    "        # F = F.reshape(-1, 6)\n",
    "\n",
    "        # link_forces = jnp.zeros((model.number_of_links(), 6)).at[l_foot:r_foot+1].set(jnp.array(F))\n",
    "        link_forces = jnp.zeros((model.number_of_links(), 6)).at[0].set(jnp.array(F))\n",
    "\n",
    "        data, integrator_state = js.model.step(\n",
    "            dt=dt,\n",
    "            model=model,\n",
    "            data=data,\n",
    "            integrator=integrator,\n",
    "            integrator_state=integrator_state,\n",
    "            joint_forces=None,\n",
    "            link_forces=link_forces,\n",
    "        )\n",
    "\n",
    "        x_t_i.append(data.base_position())\n",
    "        forces.append(F)\n",
    "\n",
    "    return x_t_i, forces"
   ]
  },
  {
   "cell_type": "markdown",
   "metadata": {},
   "source": [
    "We will make use of `jax.vmap` to simulate multiple models in parallel. This is a very powerful feature of JAX that allows to write code that is very similar to the single-model case, but can be executed in parallel on multiple models.\n",
    "In order to do so, we need to first apply `jax.vmap` to the `simulate` function, and then call the resulting function with the batch of different poses as input.\n",
    "\n",
    "Note that in our case we are vectorizing over the `pose` argument of the function `simulate`, this correspond to the value assigned to the `in_axes` parameter of `jax.vmap`:\n",
    "\n",
    "`in_axes=(None, None, 0)` means that the first two arguments of `simulate` are not vectorized, while the third argument is vectorized over the zero-th dimension."
   ]
  },
  {
   "cell_type": "code",
   "execution_count": null,
   "metadata": {},
   "outputs": [],
   "source": [
    "# Define a function to simulate multiple model instances\n",
    "# simulate_vectorized = jax.vmap(simulate, in_axes=(None, None, 0))\n",
    "\n",
    "# Run and time the simulation\n",
    "now = time.perf_counter()\n",
    "\n",
    "# x_t = simulate_vectorized(data, integrator_state, poses[:, 0]).\n",
    "x_t, forces = simulate(data, integrator_state, poses[:, 0])\n",
    "\n",
    "comp_time = time.perf_counter() - now\n",
    "\n",
    "logging.info(\n",
    "    f\"Running simulation with {envs_per_row**2} models took {comp_time} seconds.\"\n",
    ")\n",
    "logging.info(\n",
    "    f\"This corresponds to an RTF (Real Time Factor) of {(envs_per_row**2 *integration_time/comp_time):.2f}\"\n",
    ")"
   ]
  },
  {
   "cell_type": "code",
   "execution_count": null,
   "metadata": {},
   "outputs": [],
   "source": [
    "from pathlib import Path\n",
    "\n",
    "for pose in x_t:\n",
    "    mj_helper.set_base_position(pose)\n",
    "    recorder.record_frame()\n",
    "\n",
    "import datetime\n",
    "\n",
    "import mediapy as media\n",
    "\n",
    "media.show_video(recorder.frames, fps=1 / dt)\n",
    "\n",
    "recorder.write_video(path=Path.cwd() / Path(f\"video_{datetime.datetime.now()}.mp4\"))"
   ]
  },
  {
   "cell_type": "markdown",
   "metadata": {},
   "source": [
    "Now let's extract the data from the simulation and plot it. We expect to see the height time series of each sphere starting from a different value."
   ]
  },
  {
   "cell_type": "code",
   "execution_count": null,
   "metadata": {},
   "outputs": [],
   "source": [
    "import matplotlib.pyplot as plt\n",
    "import numpy as np\n",
    "\n",
    "plt.plot(np.arange(len(x_t[:])) * dt, np.array(x_t)[:, 2])\n",
    "plt.grid(True)\n",
    "plt.xlabel(\"Time [s]\")\n",
    "plt.ylabel(\"Height [m]\")\n",
    "plt.title(\"Trajectory of the model's base\")\n",
    "plt.show()"
   ]
  },
  {
   "cell_type": "code",
   "execution_count": null,
   "metadata": {},
   "outputs": [],
   "source": [
    "forces = np.array([force for force in forces])"
   ]
  },
  {
   "cell_type": "code",
   "execution_count": null,
   "metadata": {},
   "outputs": [],
   "source": [
    "forces.shape"
   ]
  },
  {
   "cell_type": "code",
   "execution_count": null,
   "metadata": {},
   "outputs": [],
   "source": [
    "import matplotlib.pyplot as plt\n",
    "import numpy as np\n",
    "\n",
    "plt.plot(\n",
    "    np.arange(len(forces[:600])) * dt,\n",
    "    forces[:600],\n",
    "    label=[\"X\", \"Y\", \"Z\", \"Rx\", \"Ry\", \"Rz\"],\n",
    ")\n",
    "plt.grid(True)\n",
    "plt.xlabel(\"Time [s]\")\n",
    "plt.ylabel(\"Force [N]\")\n",
    "plt.title(\"Contact forces\")\n",
    "plt.legend()\n",
    "plt.show()"
   ]
  },
  {
   "cell_type": "code",
   "execution_count": null,
   "metadata": {},
   "outputs": [],
   "source": []
  }
 ],
 "metadata": {
  "accelerator": "GPU",
  "colab": {
   "gpuClass": "premium",
   "gpuType": "V100",
   "private_outputs": true,
   "provenance": [
    {
     "file_id": "1QsuS7EJhdPEHxxAu9XwozvA7eb4ZnlAb",
     "timestamp": 1701993737024
    }
   ],
   "toc_visible": true
  },
  "kernelspec": {
   "display_name": "Python 3 (ipykernel)",
   "language": "python",
   "name": "python3"
  },
  "language_info": {
   "codemirror_mode": {
    "name": "ipython",
    "version": 3
   },
   "file_extension": ".py",
   "mimetype": "text/x-python",
   "name": "python",
   "nbconvert_exporter": "python",
   "pygments_lexer": "ipython3",
   "version": "3.11.8"
  }
 },
 "nbformat": 4,
 "nbformat_minor": 4
}
