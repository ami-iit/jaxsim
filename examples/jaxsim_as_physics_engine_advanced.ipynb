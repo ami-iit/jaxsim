{
 "cells": [
  {
   "cell_type": "markdown",
   "metadata": {
    "id": "H-WgcgGQaTG7"
   },
   "source": [
    "# JaxSim as a hardware-accelerated parallel physics engine-advanced usage\n",
    "\n",
    "JaxSim is developed to optimize synthetic data generation by sampling trajectories using hardware accelerators such as GPUs and TPUs.\n",
    "\n",
    "In this notebook, you'll learn how to use the key APIs to load a simple robot model (a sphere) and simulate multiple trajectories in parallel on GPUs.\n",
    "\n",
    "<a target=\"_blank\" href=\"https://colab.research.google.com/github/ami-iit/jaxsim/blob/main/examples/jaxsim_as_physics_engine.ipynb\">\n",
    "  <img src=\"https://colab.research.google.com/assets/colab-badge.svg\" alt=\"Open In Colab\"/>\n",
    "</a>"
   ]
  },
  {
   "cell_type": "markdown",
   "metadata": {
    "id": "SgOSnrSscEkt"
   },
   "source": [
    "## Prepare the environment"
   ]
  },
  {
   "cell_type": "code",
   "execution_count": null,
   "metadata": {
    "id": "fdqvAqMDaTG9"
   },
   "outputs": [],
   "source": [
    "# @title Imports and setup\n",
    "import sys\n",
    "from IPython.display import clear_output\n",
    "\n",
    "IS_COLAB = \"google.colab\" in sys.modules\n",
    "\n",
    "# Install JAX and Gazebo\n",
    "if IS_COLAB:\n",
    "    !{sys.executable} -m pip install --pre -qU jaxsim\n",
    "    !apt install -qq lsb-release wget gnupg\n",
    "    !wget https://packages.osrfoundation.org/gazebo.gpg -O /usr/share/keyrings/pkgs-osrf-archive-keyring.gpg\n",
    "    !echo \"deb [arch=$(dpkg --print-architecture) signed-by=/usr/share/keyrings/pkgs-osrf-archive-keyring.gpg] http://packages.osrfoundation.org/gazebo/ubuntu-stable $(lsb_release -cs) main\" | sudo tee /etc/apt/sources.list.d/gazebo-stable.list > /dev/null\n",
    "    !apt -qq update\n",
    "    !apt install -qq --no-install-recommends libsdformat13 gz-tools2\n",
    "\n",
    "    clear_output()\n",
    "\n",
    "# Set environment variable to avoid GPU out of memory errors\n",
    "%env XLA_PYTHON_CLIENT_MEM_PREALLOCATE=false\n",
    "\n",
    "# ================\n",
    "# Notebook imports\n",
    "# ================\n",
    "\n",
    "import os\n",
    "\n",
    "import jax\n",
    "\n",
    "import jax.numpy as jnp\n",
    "import jaxsim.api as js\n",
    "import rod\n",
    "from jaxsim import logging\n",
    "from rod.builder.primitives import SphereBuilder\n",
    "\n",
    "logging.set_logging_level(logging.LoggingLevel.WARNING)\n",
    "print(f\"Running on {jax.devices()}\")"
   ]
  },
  {
   "cell_type": "markdown",
   "metadata": {
    "id": "QtCCUhdpdGFH"
   },
   "source": [
    "## Prepare the simulation\n",
    "\n",
    "JaxSim supports loading robot descriptions from both [SDF][sdformat] and [URDF][urdf] files. This is done using the [`ami-iit/rod`][rod] library, which processes these formats.\n",
    "\n",
    "The `rod` library also allows creating in-memory models that can be serialized to SDF or URDF. We'll use this functionality to build a sphere model, which will later be used to create the JaxSim model.\n",
    "\n",
    "[sdformat]: http://sdformat.org/\n",
    "[urdf]: http://wiki.ros.org/urdf/\n",
    "[rod]: https://github.com/ami-iit/rod"
   ]
  },
  {
   "cell_type": "code",
   "execution_count": null,
   "metadata": {
    "cellView": "form",
    "id": "0emoMQhCaTG_"
   },
   "outputs": [],
   "source": [
    "# @title Create the model description of a sphere\n",
    "\n",
    "# Create a SDF model.\n",
    "# The builder takes care to compute the right inertia tensor for you.\n",
    "rod_sdf = rod.Sdf(\n",
    "    version=\"1.7\",\n",
    "    model=SphereBuilder(radius=0.10, mass=1.0, name=\"sphere\")\n",
    "    .build_model()\n",
    "    .add_link()\n",
    "    .add_inertial()\n",
    "    .add_visual()\n",
    "    .add_collision()\n",
    "    .build(),\n",
    ")\n",
    "\n",
    "# Rod allows to update the frames w.r.t. the poses are expressed.\n",
    "rod_sdf.model.switch_frame_convention(\n",
    "    frame_convention=rod.FrameConvention.Urdf, explicit_frames=True\n",
    ")\n",
    "\n",
    "# Serialize the model to a SDF string.\n",
    "model_sdf_string = rod_sdf.serialize(pretty=True)\n",
    "print(model_sdf_string)\n",
    "\n",
    "# JaxSim currently only supports collisions between points attached to bodies\n",
    "# and a ground surface modeled as a heightmap sampled from a smooth function.\n",
    "# While this approach is universal as it applies to generic meshes, the number\n",
    "# of considered points greatly affects the performance. Spheres, by default,\n",
    "# are discretized with 250 points. It's too much for this simple example.\n",
    "# This number can be decreased with the following environment variable.\n",
    "os.environ[\"JAXSIM_COLLISION_SPHERE_POINTS\"] = \"50\""
   ]
  },
  {
   "cell_type": "markdown",
   "metadata": {
    "id": "NqjuZKvOaTG_"
   },
   "source": [
    "### Create the model and its data\n",
    "\n",
    "JAXsim offers a simple functional API in order to interact in a memory-efficient way with the simulation. Four main elements are used to define a simulation:\n",
    "\n",
    "- `model`: an object that defines the dynamics of the system.\n",
    "- `data`: an object that contains the state of the system.\n",
    "- `integrator` *(Optional)*: an object that defines the integration method.\n",
    "- `integrator_metadata` *(Optional)*: an object that contains the state of the integrator.\n",
    "\n",
    "The `JaxSimModel` object contains the simulation time step, the integrator and the contact model.\n",
    "In this example, we will explicitly pass an integrator class to the `model` object and we will use the default `SoftContacts` contact model."
   ]
  },
  {
   "cell_type": "code",
   "execution_count": null,
   "metadata": {
    "id": "etQ577cFaTHA"
   },
   "outputs": [],
   "source": [
    "# Create the JaxSim model.\n",
    "# This is shared among all the parallel instances.\n",
    "model = js.model.JaxSimModel.build_from_model_description(\n",
    "    model_description=model_sdf_string,\n",
    "    time_step=0.001,\n",
    ")\n",
    "\n",
    "# Create the data of a single model.\n",
    "# We will create a vectorized instance later.\n",
    "data_single = js.data.JaxSimModelData.zero(model=model)"
   ]
  },
  {
   "cell_type": "code",
   "execution_count": null,
   "metadata": {
    "id": "o86Teq5piVGj"
   },
   "outputs": [],
   "source": [
    "\n",
    "# Initialize the simulated time.\n",
    "T = jnp.arange(start=0, stop=1.0, step=model.time_step)"
   ]
  },
  {
   "cell_type": "markdown",
   "metadata": {
    "id": "V6IeD2B3m4F0"
   },
   "source": [
    "## Sample a batch of trajectories in parallel\n",
    "\n",
    "With the provided resources, you can step through an open-loop trajectory on a single model using `jaxsim.api.model.step`.\n",
    "\n",
    "In this notebook, we'll focus on running parallel steps. We'll use JAX's automatic vectorization to apply the step function to batched data.\n",
    "\n",
    "Note that these parallel simulations are independent — models don't interact, so there's no need to avoid initial collisions."
   ]
  },
  {
   "cell_type": "code",
   "execution_count": null,
   "metadata": {
    "id": "vtEn0aIzr_2j"
   },
   "outputs": [],
   "source": [
    "# @title Generate batched initial data\n",
    "\n",
    "# Create a random JAX key.\n",
    "key = jax.random.PRNGKey(seed=0)\n",
    "\n",
    "# Split subkeys for sampling random initial data.\n",
    "batch_size = 10\n",
    "key, *subkeys = jax.random.split(key=key, num=batch_size + 1)\n",
    "\n",
    "# Create the batched data by sampling the height from [0.5, 0.6] meters.\n",
    "data_batch_t0 = jax.vmap(\n",
    "    lambda key: js.data.random_model_data(\n",
    "        model=model,\n",
    "        key=key,\n",
    "        base_pos_bounds=([0, 0, 0.3], [0, 0, 0.6]),\n",
    "        base_vel_lin_bounds=(0, 0),\n",
    "        base_vel_ang_bounds=(0, 0),\n",
    "    )\n",
    ")(jnp.vstack(subkeys))\n",
    "\n",
    "print(\"W_p_B(t0)=\\n\", data_batch_t0.base_position[0:10])"
   ]
  },
  {
   "cell_type": "code",
   "execution_count": null,
   "metadata": {
    "id": "0tQPfsl6uxHm"
   },
   "outputs": [],
   "source": [
    "# @title Create parallel step function\n",
    "\n",
    "import functools\n",
    "from typing import Any\n",
    "\n",
    "\n",
    "@jax.jit\n",
    "def step_single(\n",
    "    model: js.model.JaxSimModel,\n",
    "    data: js.data.JaxSimModelData,\n",
    ") -> tuple[js.data.JaxSimModelData, dict[str, Any]]:\n",
    "\n",
    "    # Close step over static arguments.\n",
    "    return js.model.step(\n",
    "        model=model,\n",
    "        data=data,\n",
    "        link_forces=None,\n",
    "        joint_force_references=None,\n",
    "    )\n",
    "\n",
    "\n",
    "@jax.jit\n",
    "@functools.partial(jax.vmap, in_axes=(None, 0))\n",
    "def step_parallel(\n",
    "    model: js.model.JaxSimModel,\n",
    "    data: js.data.JaxSimModelData,\n",
    ") -> tuple[js.data.JaxSimModelData, dict[str, Any]]:\n",
    "\n",
    "    return step_single(\n",
    "        model=model, data=data\n",
    "    )\n",
    "\n",
    "\n",
    "# The first run will be slow since JAX needs to JIT-compile the functions.\n",
    "_ = step_single(model, data_single)\n",
    "_ = step_parallel(model, data_batch_t0)\n",
    "\n",
    "# Benchmark the execution of a single step.\n",
    "print(\"\\nSingle simulation step:\")\n",
    "%timeit step_single(model, data_single)\n",
    "\n",
    "# On hardware accelerators, there's a range of batch_size values where\n",
    "# increasing the number of parallel instances doesn't affect computation time.\n",
    "# This range depends on the GPU/TPU specifications.\n",
    "print(f\"\\nParallel simulation steps (batch_size={batch_size} on {jax.devices()[0]}):\")\n",
    "%timeit step_parallel(model, data_batch_t0)"
   ]
  },
  {
   "cell_type": "code",
   "execution_count": null,
   "metadata": {
    "id": "VNwzT2JQ1n15"
   },
   "outputs": [],
   "source": [
    "# @title Run parallel simulation\n",
    "\n",
    "data = data_batch_t0\n",
    "data_trajectory_list = []\n",
    "\n",
    "for _ in T:\n",
    "\n",
    "    data = step_parallel(model, data)\n",
    "    data_trajectory_list.append(data)"
   ]
  },
  {
   "cell_type": "markdown",
   "metadata": {
    "id": "Y6n720Cr3G44"
   },
   "source": [
    "## Visualize trajectory"
   ]
  },
  {
   "cell_type": "code",
   "execution_count": null,
   "metadata": {
    "id": "BLPODyKr3Lyg"
   },
   "outputs": [],
   "source": [
    "# Convert a list of PyTrees to a batched PyTree.\n",
    "# This operation is called 'tree transpose' in JAX.\n",
    "data_trajectory = jax.tree.map(lambda *leafs: jnp.stack(leafs), *data_trajectory_list)\n",
    "\n",
    "print(f\"W_p_B: shape={data_trajectory.base_position.shape}\")"
   ]
  },
  {
   "cell_type": "code",
   "execution_count": null,
   "metadata": {
    "id": "-jxJXy5r3RMt"
   },
   "outputs": [],
   "source": [
    "import matplotlib.pyplot as plt\n",
    "\n",
    "\n",
    "plt.plot(T, data_trajectory.base_position[:, 0:5, 2])\n",
    "plt.grid(True)\n",
    "plt.xlabel(\"Time [s]\")\n",
    "plt.ylabel(\"Height [m]\")\n",
    "plt.title(\"Height trajectory of the sphere\")\n",
    "plt.show()"
   ]
  },
  {
   "cell_type": "markdown",
   "metadata": {},
   "source": []
  }
 ],
 "metadata": {
  "accelerator": "GPU",
  "colab": {
   "gpuClass": "premium",
   "private_outputs": true,
   "provenance": [],
   "toc_visible": true
  },
  "kernelspec": {
   "display_name": "comodo_jaxsim",
   "language": "python",
   "name": "python3"
  },
  "language_info": {
   "codemirror_mode": {
    "name": "ipython",
    "version": 3
   },
   "file_extension": ".py",
   "mimetype": "text/x-python",
   "name": "python",
   "nbconvert_exporter": "python",
   "pygments_lexer": "ipython3",
   "version": "3.12.8"
  }
 },
 "nbformat": 4,
 "nbformat_minor": 0
}
