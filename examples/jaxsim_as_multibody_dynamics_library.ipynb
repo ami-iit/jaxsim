{
 "cells": [
  {
   "cell_type": "markdown",
   "metadata": {
    "id": "DpLq0-lltwZ1"
   },
   "source": [
    "# `JaxSim` as a multibody dynamics library\n",
    "\n",
    "JaxSim was initially developed as a **hardware-accelerated physics engine**. Over time, it has evolved, adding new features to become a comprehensive **JAX-based multibody dynamics library**.\n",
    "\n",
    "In this notebook, you'll explore the main APIs for loading robot models and computing key quantities for applications such as control, planning, and more.\n",
    "\n",
    "A key advantage of JaxSim is its ability to create fully differentiable closed-loop systems, enabling end-to-end optimization. Combined with the flexibility to parameterize model kinematics and dynamics, JaxSim can serve as an excellent playground for robot learning applications.\n",
    "\n",
    "<a target=\"_blank\" href=\"https://colab.research.google.com/github/ami-iit/jaxsim/blob/main/examples/jaxsim_as_multibody_dynamics_library.ipynb\">\n",
    "  <img src=\"https://colab.research.google.com/assets/colab-badge.svg\" alt=\"Open In Colab\"/>\n",
    "</a>\n"
   ]
  },
  {
   "cell_type": "markdown",
   "metadata": {
    "id": "rcEwprINtwZ3"
   },
   "source": [
    "## Prepare environment\n",
    "\n",
    "First, we need to install the necessary packages and import their resources."
   ]
  },
  {
   "cell_type": "code",
   "execution_count": null,
   "metadata": {
    "colab": {
     "base_uri": "https://localhost:8080/"
    },
    "id": "u4xL7dbBtwZ3",
    "outputId": "1a088e28-e005-4910-928c-cb641e589ab5"
   },
   "outputs": [],
   "source": [
    "# @title Imports and setup\n",
    "from IPython.display import clear_output\n",
    "import sys\n",
    "\n",
    "IS_COLAB = \"google.colab\" in sys.modules\n",
    "\n",
    "# Install JAX, sdformat, and other notebook dependencies.\n",
    "if IS_COLAB:\n",
    "    !{sys.executable} -m pip install --pre -qU jaxsim\n",
    "    !{sys.executable} -m pip install robot_descriptions\n",
    "    !apt install -qq lsb-release wget gnupg\n",
    "    !wget https://packages.osrfoundation.org/gazebo.gpg -O /usr/share/keyrings/pkgs-osrf-archive-keyring.gpg\n",
    "    !echo \"deb [arch=$(dpkg --print-architecture) signed-by=/usr/share/keyrings/pkgs-osrf-archive-keyring.gpg] http://packages.osrfoundation.org/gazebo/ubuntu-stable $(lsb_release -cs) main\" | sudo tee /etc/apt/sources.list.d/gazebo-stable.list > /dev/null\n",
    "    !apt -qq update\n",
    "    !apt install -qq --no-install-recommends libsdformat13 gz-tools2\n",
    "\n",
    "    clear_output()\n",
    "\n",
    "import os\n",
    "import pathlib\n",
    "\n",
    "import jax\n",
    "import jax.numpy as jnp\n",
    "import jaxsim.api as js\n",
    "import jaxsim.math\n",
    "import robot_descriptions\n",
    "from jaxsim import logging\n",
    "from jaxsim import VelRepr\n",
    "\n",
    "logging.set_logging_level(logging.LoggingLevel.WARNING)\n",
    "print(f\"Running on {jax.devices()}\")"
   ]
  },
  {
   "cell_type": "markdown",
   "metadata": {
    "id": "fN8Xg4QgtwZ4"
   },
   "source": [
    "## Robot model\n",
    "\n",
    "JaxSim allows loading robot descriptions from both [SDF][sdformat] and [URDF][urdf] files.\n",
    "\n",
    "In this example, we will use the [ErgoCub][ergocub] humanoid robot model. If you have a URDF/SDF file for your robot that is compatible with [`gazebosim/sdformat`][sdformat_github][1], it should work out-of-the-box with JaxSim.\n",
    "\n",
    "[sdformat]: http://sdformat.org/\n",
    "[urdf]: http://wiki.ros.org/urdf/\n",
    "[ergocub]: https://ergocub.eu/\n",
    "[sdformat_github]: https://github.com/gazebosim/sdformat\n",
    "\n",
    "---\n",
    "\n",
    "[1]: JaxSim validates robot descriptions using the command `gz sdf -p /path/to/file.urdf`. Ensure this command runs successfully on your file.\n"
   ]
  },
  {
   "cell_type": "code",
   "execution_count": null,
   "metadata": {
    "id": "rB0BFxyPtwZ5"
   },
   "outputs": [],
   "source": [
    "# @title Fetch the URDF file\n",
    "\n",
    "try:\n",
    "    os.environ[\"ROBOT_DESCRIPTION_COMMIT\"] = \"v0.7.1\"\n",
    "\n",
    "    import robot_descriptions.ergocub_description\n",
    "\n",
    "finally:\n",
    "    _ = os.environ.pop(\"ROBOT_DESCRIPTION_COMMIT\", None)\n",
    "\n",
    "model_description_path = pathlib.Path(\n",
    "    robot_descriptions.ergocub_description.URDF_PATH.replace(\n",
    "        \"ergoCubSN000\", \"ergoCubSN001\"\n",
    "    )\n",
    ")\n",
    "\n",
    "clear_output()"
   ]
  },
  {
   "cell_type": "markdown",
   "metadata": {
    "id": "jeTUZic8twZ5"
   },
   "source": [
    "### Create the model and its data\n",
    "\n",
    "The dynamics of a generic floating-base model are governed by the following equations of motion:\n",
    "\n",
    "$$\n",
    "M(\\mathbf{q}) \\dot{\\boldsymbol{\\nu}} + \\mathbf{h}(\\mathbf{q}, \\boldsymbol{\\nu}) = B \\boldsymbol{\\tau} + \\sum_{L_i \\in \\mathcal{L}} J_{W,L_i}^\\top(\\mathbf{q}) \\: \\mathbf{f}_i\n",
    ".\n",
    "$$\n",
    "\n",
    "Here, the system state is represented by:\n",
    "\n",
    "- $\\mathbf{q} = ({}^W \\mathbf{p}_B, \\, \\mathbf{s}) \\in \\text{SE}(3) \\times \\mathbb{R}^n$ is the generalized position.\n",
    "- $\\boldsymbol{\\nu} = (\\boldsymbol{v}_{W,B}, \\, \\boldsymbol{\\omega}_{W,B}, \\, \\dot{\\mathbf{s}}) \\in \\mathbb{R}^{6+n}$ is the generalized velocity.\n",
    "\n",
    "The inputs to the system are:\n",
    "\n",
    "- $\\boldsymbol{\\tau} \\in \\mathbb{R}^n$ are the joint torques.\n",
    "- $\\mathbf{f}_i \\in \\mathbb{R}^6$ is the 6D force applied to the link $L_i$.\n",
    "\n",
    "JaxSim exposes functional APIs to operate over the following two main data structures:\n",
    "\n",
    "- **`JaxSimModel`** stores all the constant information parsed from the model description.\n",
    "- **`JaxSimModelData`** holds the state of model.\n",
    "\n",
    "Additionally, JaxSim includes a utility class, **`JaxSimModelReferences`**, for managing and manipulating system inputs.\n",
    "\n",
    "---\n",
    "\n",
    "This notebook uses the notation summarized in the following report. Please refer to this document if you have any questions or if something is unclear.\n",
    "\n",
    "> Traversaro and Saccon, **Multibody dynamics notation**, 2019, [URL](https://pure.tue.nl/ws/portalfiles/portal/139293126/A_Multibody_Dynamics_Notation_Revision_2_.pdf)."
   ]
  },
  {
   "cell_type": "code",
   "execution_count": null,
   "metadata": {
    "id": "WYgBAxU0twZ6"
   },
   "outputs": [],
   "source": [
    "# Create the model from the model description.\n",
    "# JaxSim removes all fixed joints by lumping together their parent and child links.\n",
    "full_model = js.model.JaxSimModel.build_from_model_description(\n",
    "    model_description=model_description_path\n",
    ")"
   ]
  },
  {
   "cell_type": "markdown",
   "metadata": {
    "id": "DdaETmDStwZ6"
   },
   "source": [
    "It is often useful to work with only a subset of joints, referred to as the _considered joints_. JaxSim allows to reduce a model so that the computation of the rigid body dynamics quantities is simplified.\n",
    "\n",
    "By default, the positions of the removed joints are considered to be zero. If this is not the case, the `reduce` function accepts a dictionary `dict[str, float]` to specify custom joint positions."
   ]
  },
  {
   "cell_type": "code",
   "execution_count": null,
   "metadata": {
    "id": "QuhG7Zv5twZ7"
   },
   "outputs": [],
   "source": [
    "model = js.model.reduce(\n",
    "    model=full_model,\n",
    "    considered_joints=tuple(\n",
    "        j\n",
    "        for j in full_model.joint_names()\n",
    "        # Remove sensor joints.\n",
    "        if \"camera\" not in j\n",
    "        # Remove head and hands.\n",
    "        and \"neck\" not in j\n",
    "        and \"wrist\" not in j\n",
    "        and \"thumb\" not in j\n",
    "        and \"index\" not in j\n",
    "        and \"middle\" not in j\n",
    "        and \"ring\" not in j\n",
    "        and \"pinkie\" not in j\n",
    "        # Remove upper body.\n",
    "        and \"torso\" not in j and \"elbow\" not in j and \"shoulder\" not in j\n",
    "    ),\n",
    ")"
   ]
  },
  {
   "cell_type": "code",
   "execution_count": null,
   "metadata": {
    "colab": {
     "base_uri": "https://localhost:8080/"
    },
    "id": "RLvAit_i2ZiA",
    "outputId": "ea3954af-b9b9-46ac-d9cb-20b99b1eac94"
   },
   "outputs": [],
   "source": [
    "# Print model quantities.\n",
    "print(f\"Model name: {model.name()}\")\n",
    "print(f\"Number of links: {model.number_of_links()}\")\n",
    "print(f\"Number of joints: {model.number_of_joints()}\")\n",
    "\n",
    "print()\n",
    "print(f\"Links:\\n{model.link_names()}\")\n",
    "\n",
    "print()\n",
    "print(f\"Joints:\\n{model.joint_names()}\")\n",
    "\n",
    "print()\n",
    "print(f\"Frames:\\n{model.frame_names()}\")"
   ]
  },
  {
   "cell_type": "code",
   "execution_count": null,
   "metadata": {
    "colab": {
     "base_uri": "https://localhost:8080/"
    },
    "id": "Xp8V5on5twZ8",
    "outputId": "cc1564db-ae91-4dba-92c9-b8b87bd65f10"
   },
   "outputs": [],
   "source": [
    "# Create a random data object from the reduced model.\n",
    "data = js.data.random_model_data(model=model)\n",
    "\n",
    "# Print the default state.\n",
    "W_H_B, s = data.generalized_position\n",
    "ν = data.generalized_velocity\n",
    "\n",
    "print(f\"W_H_B: shape={W_H_B.shape}\\n{W_H_B}\\n\")\n",
    "print(f\"s: shape={s.shape}\\n{s}\\n\")\n",
    "print(f\"ν: shape={ν.shape}\\n{ν}\\n\")  # noqa: RUF001"
   ]
  },
  {
   "cell_type": "code",
   "execution_count": null,
   "metadata": {
    "colab": {
     "base_uri": "https://localhost:8080/"
    },
    "id": "XLx3sv9VtwZ9",
    "outputId": "28f5f070-e37e-464e-d84e-2944cfdc28dc"
   },
   "outputs": [],
   "source": [
    "# Create a random link forces matrix.\n",
    "link_forces = jax.random.uniform(\n",
    "    minval=-10.0,\n",
    "    maxval=10.0,\n",
    "    shape=(model.number_of_links(), 6),\n",
    "    key=jax.random.PRNGKey(0),\n",
    ")\n",
    "\n",
    "# Create a random joint force references vector.\n",
    "# Note that these are called 'references' because the actual joint forces that\n",
    "# are actuated might differ due to effects like joint friction.\n",
    "joint_force_references = jax.random.uniform(\n",
    "    minval=-10.0, maxval=10.0, shape=(model.dofs(),), key=jax.random.PRNGKey(0)\n",
    ")\n",
    "\n",
    "# Create the references object.\n",
    "references = js.references.JaxSimModelReferences.build(\n",
    "    model=model,\n",
    "    data=data,\n",
    "    link_forces=link_forces,\n",
    "    joint_force_references=joint_force_references,\n",
    ")\n",
    "\n",
    "print(f\"link_forces: shape={references.link_forces(model=model, data=data).shape}\")\n",
    "print(f\"joint_force_references: shape={references.joint_force_references(model=model).shape}\")"
   ]
  },
  {
   "cell_type": "markdown",
   "metadata": {
    "id": "AaG817vP4LfT"
   },
   "source": [
    "## Robot Kinematics\n",
    "\n",
    "JaxSim offers functional APIs for computing kinematic quantities:\n",
    "\n",
    "- **`jaxsim.api.model`**: vectorized functions operating on the whole model.\n",
    "- **`jaxsim.api.link`**: functions operating on individual links.\n",
    "- **`jaxsim.api.frame`**: functions operating on individual frames. \n",
    "\n",
    "Due to JAX limitations on vectorizable data types, many APIs operate on indices instead of names. Since using indices can be error prone, JaxSim provides conversion functions for both links:\n",
    "\n",
    "- **jaxsim.api.link.names_to_idxs()**\n",
    "- **jaxsim.api.link.idxs_to_names()**\n",
    "\n",
    "and frames: \n",
    "\n",
    "- **jaxsim.api.frame.names_to_idxs()**\n",
    "- **jaxsim.api.frame.idxs_to_names()**\n",
    "\n",
    "We recommend using names whenever possible to avoid hard-to-trace errors.\n"
   ]
  },
  {
   "cell_type": "code",
   "execution_count": null,
   "metadata": {
    "id": "QxImwfZz7pz-"
   },
   "outputs": [],
   "source": [
    "# Find the index of a link.\n",
    "link_name = \"l_ankle_2\"\n",
    "link_index = js.link.name_to_idx(model=model, link_name=link_name)"
   ]
  },
  {
   "cell_type": "code",
   "execution_count": null,
   "metadata": {
    "colab": {
     "base_uri": "https://localhost:8080/"
    },
    "id": "C22Iqu2i4G-I",
    "outputId": "94376151-177d-410f-f375-b7b8bd080992"
   },
   "outputs": [],
   "source": [
    "# @title Link Pose\n",
    "\n",
    "# Compute its pose w.r.t. the world frame through forward kinematics.\n",
    "W_H_L = js.link.transform(model=model, data=data, link_index=link_index)\n",
    "\n",
    "print(f\"Transform of '{link_name}': shape={W_H_L.shape}\\n{W_H_L}\")"
   ]
  },
  {
   "cell_type": "code",
   "execution_count": null,
   "metadata": {
    "colab": {
     "base_uri": "https://localhost:8080/"
    },
    "id": "DnSpE_f97RkX",
    "outputId": "a3f6b535-4ae5-49f4-8921-7fe4dda5debb"
   },
   "outputs": [],
   "source": [
    "# @title Link 6D Velocity\n",
    "\n",
    "# JaxSim allows to select the so-called representation of the frame velocity.\n",
    "L_v_WL = js.link.velocity(model=model, data=data, link_index=link_index, output_vel_repr=VelRepr.Body)\n",
    "LW_v_WL = js.link.velocity(model=model, data=data, link_index=link_index, output_vel_repr=VelRepr.Mixed)\n",
    "W_v_WL = js.link.velocity(model=model, data=data, link_index=link_index, output_vel_repr=VelRepr.Inertial)\n",
    "\n",
    "print(f\"Body-fixed velocity      L_v_WL={L_v_WL}\")\n",
    "print(f\"Mixed velocity:         LW_v_WL={LW_v_WL}\")\n",
    "print(f\"Inertial-fixed velocity: W_v_WL={W_v_WL}\")\n",
    "\n",
    "# These can also be computed passing through the link free-floating Jacobian.\n",
    "# This type of Jacobian has a input velocity representation that corresponds\n",
    "# the velocity representation of ν, and an output velocity representation that\n",
    "# corresponds to the velocity representation of the desired 6D velocity.\n",
    "\n",
    "# You can use the following context manager to easily switch between representations.\n",
    "with data.switch_velocity_representation(VelRepr.Body):\n",
    "\n",
    "    # Body-fixed generalized velocity.\n",
    "    B_ν = data.generalized_velocity\n",
    "\n",
    "    # Free-floating Jacobian accepting a body-fixed generalized velocity and\n",
    "    # returning an inertial-fixed link velocity.\n",
    "    W_J_WL_B = js.link.jacobian(\n",
    "        model=model, data=data, link_index=link_index, output_vel_repr=VelRepr.Inertial\n",
    "    )\n",
    "\n",
    "# Now the following relation should hold.\n",
    "assert jnp.allclose(W_v_WL, W_J_WL_B @ B_ν)"
   ]
  },
  {
   "cell_type": "code",
   "execution_count": null,
   "metadata": {
    "id": "SSoziCShtwZ9"
   },
   "outputs": [],
   "source": [
    "# Find the index of a frame.\n",
    "frame_name = \"l_foot_front\"\n",
    "frame_index = js.frame.name_to_idx(model=model, frame_name=frame_name)"
   ]
  },
  {
   "cell_type": "code",
   "execution_count": null,
   "metadata": {
    "colab": {
     "base_uri": "https://localhost:8080/"
    },
    "id": "fVp_xP_1twZ9",
    "outputId": "cfaa0569-d768-4708-c98c-a5867c056d04"
   },
   "outputs": [],
   "source": [
    "# @title Frame Pose\n",
    "\n",
    "# Compute its pose w.r.t. the world frame through forward kinematics.\n",
    "W_H_F = js.frame.transform(model=model, data=data, frame_index=frame_index)\n",
    "\n",
    "print(f\"Transform of '{frame_name}': shape={W_H_F.shape}\\n{W_H_F}\")"
   ]
  },
  {
   "cell_type": "code",
   "execution_count": null,
   "metadata": {
    "id": "QqaqxneEFYiW"
   },
   "outputs": [],
   "source": [
    "# @title Frame 6D Velocity\n",
    "\n",
    "# JaxSim allows to select the so-called representation of the frame velocity.\n",
    "F_v_WF = js.frame.velocity(model=model, data=data, frame_index=frame_index, output_vel_repr=VelRepr.Body)\n",
    "FW_v_WF = js.frame.velocity(model=model, data=data, frame_index=frame_index, output_vel_repr=VelRepr.Mixed)\n",
    "W_v_WF = js.frame.velocity(model=model, data=data, frame_index=frame_index, output_vel_repr=VelRepr.Inertial)\n",
    "\n",
    "print(f\"Body-fixed velocity      F_v_WF={F_v_WF}\")\n",
    "print(f\"Mixed velocity:         FW_v_WF={FW_v_WF}\")\n",
    "print(f\"Inertial-fixed velocity: W_v_WF={W_v_WF}\")\n",
    "\n",
    "# These can also be computed passing through the frame free-floating Jacobian.\n",
    "# This type of Jacobian has a input velocity representation that corresponds\n",
    "# the velocity representation of ν, and an output velocity representation that\n",
    "# corresponds to the velocity representation of the desired 6D velocity.\n",
    "\n",
    "# You can use the following context manager to easily switch between representations.\n",
    "with data.switch_velocity_representation(VelRepr.Body):\n",
    "\n",
    "    # Body-fixed generalized velocity.\n",
    "    B_ν = data.generalized_velocity\n",
    "\n",
    "    # Free-floating Jacobian accepting a body-fixed generalized velocity and\n",
    "    # returning an inertial-fixed link velocity.\n",
    "    W_J_WF_B = js.frame.jacobian(\n",
    "        model=model, data=data, frame_index=frame_index, output_vel_repr=VelRepr.Inertial\n",
    "    )\n",
    "\n",
    "# Now the following relation should hold.\n",
    "assert jnp.allclose(W_v_WF, W_J_WF_B @ B_ν)"
   ]
  },
  {
   "cell_type": "markdown",
   "metadata": {
    "colab": {
     "base_uri": "https://localhost:8080/"
    },
    "id": "d_vp6D74GoVZ",
    "outputId": "798b9283-792e-4339-b56c-df2595fac974"
   },
   "source": [
    "## Robot Dynamics\n",
    "\n",
    "JaxSim provides all the quantities involved in the equations of motion, restated here:\n",
    "\n",
    "$$\n",
    "M(\\mathbf{q}) \\dot{\\boldsymbol{\\nu}} + \\mathbf{h}(\\mathbf{q}, \\boldsymbol{\\nu}) = B \\boldsymbol{\\tau} + \\sum_{L_i \\in \\mathcal{L}} J_{W,L_i}^\\top(\\mathbf{q}) \\: \\mathbf{f}_i\n",
    ".\n",
    "$$\n",
    "\n",
    "Specifically, it can compute:\n",
    "\n",
    "- $M(\\mathbf{q}) \\in \\mathbb{R}^{(6+n)\\times(6+n)}$: the mass matrix.\n",
    "- $\\mathbf{h}(\\mathbf{q}, \\boldsymbol{\\nu}) \\in \\mathbb{R}^{6+n}$: the vector of bias forces.\n",
    "- $B \\in \\mathbb{R}^{(6+n) \\times n}$ the joint selector matrix.\n",
    "- $J_{W,L} \\in \\mathbb{R}^{6 \\times (6+n)}$ the Jacobian of link $L$.\n",
    "\n",
    "Often, for convenience, link Jacobians are stacked together. Since JaxSim efficiently computes the Jacobians for all links, using the stacked version is recommended when needed:\n",
    "\n",
    "$$\n",
    "M(\\mathbf{q}) \\dot{\\boldsymbol{\\nu}} + \\mathbf{h}(\\mathbf{q}, \\boldsymbol{\\nu}) = B \\boldsymbol{\\tau} + J_{W,\\mathcal{L}}^\\top(\\mathbf{q}) \\: \\mathbf{f}_\\mathcal{L}\n",
    ".\n",
    "$$\n",
    "\n",
    "Furthermore, there are applications that require unpacking the vector of bias forces as follow:\n",
    "\n",
    "$$\n",
    "\\mathbf{h}(\\mathbf{q}, \\boldsymbol{\\nu}) = C(\\mathbf{q}, \\boldsymbol{\\nu}) \\boldsymbol{\\nu} + \\mathbf{g}(\\mathbf{q})\n",
    ",\n",
    "$$\n",
    "\n",
    "where:\n",
    "\n",
    "- $\\mathbf{g}(\\mathbf{q}) \\in \\mathbb{R}^{6+n}$: the vector of gravity forces.\n",
    "- $C(\\mathbf{q}, \\boldsymbol{\\nu}) \\in \\mathbb{R}^{(6+n)\\times(6+n)}$: the Coriolis matrix.\n",
    "\n",
    "Here below we report the functions to compute all these quantities. Note that all quantities depend on the active velocity representation of `data`. As it was done for the link velocity, it is possible to change the representation associated to all the computed quantities by operating within the corresponding context manager. Here below we consider the default representation of data."
   ]
  },
  {
   "cell_type": "code",
   "execution_count": null,
   "metadata": {
    "id": "oOKJOVfsH4Ki"
   },
   "outputs": [],
   "source": [
    "print(\"Velocity representation of data:\", data.velocity_representation, \"\\n\")\n",
    "\n",
    "# Compute the mass matrix.\n",
    "M = js.model.free_floating_mass_matrix(model=model, data=data)\n",
    "print(f\"M:   shape={M.shape}\")\n",
    "\n",
    "# Compute the vector of bias forces.\n",
    "h = js.model.free_floating_bias_forces(model=model, data=data)\n",
    "print(f\"h:   shape={h.shape}\")\n",
    "\n",
    "# Compute the vector of gravity forces.\n",
    "g = js.model.free_floating_gravity_forces(model=model, data=data)\n",
    "print(f\"g:   shape={g.shape}\")\n",
    "\n",
    "# Compute the Coriolis matrix.\n",
    "C = js.model.free_floating_coriolis_matrix(model=model, data=data)\n",
    "print(f\"C:   shape={C.shape}\")\n",
    "\n",
    "# Create a the joint selector matrix.\n",
    "B = jnp.block([jnp.zeros(shape=(model.dofs(), 6)), jnp.eye(model.dofs())]).T\n",
    "print(f\"B:   shape={B.shape}\")\n",
    "\n",
    "# Compute the stacked tensor of link Jacobians.\n",
    "J = js.model.generalized_free_floating_jacobian(model=model, data=data)\n",
    "print(f\"J:   shape={J.shape}\")\n",
    "\n",
    "# Extract the joint forces from the references object.\n",
    "τ = references.joint_force_references(model=model)\n",
    "print(f\"τ:   shape={τ.shape}\")\n",
    "\n",
    "# Extract the link forces from the references object.\n",
    "f_L = references.link_forces(model=model, data=data)\n",
    "print(f\"f_L: shape={f_L.shape}\")\n",
    "\n",
    "# The following relation should hold.\n",
    "assert jnp.allclose(h, C @ ν + g)"
   ]
  },
  {
   "cell_type": "markdown",
   "metadata": {
    "colab": {
     "base_uri": "https://localhost:8080/"
    },
    "id": "FlNo8dNWKKtu",
    "outputId": "313e939b-f88f-4407-c9ee-b5b3b7443061"
   },
   "source": [
    "### Forward Dynamics\n",
    "\n",
    "$$\n",
    "\\dot{\\boldsymbol{\\nu}} = \\text{FD}(\\mathbf{q}, \\boldsymbol{\\nu}, \\boldsymbol{\\tau}, \\mathbf{f}_{\\mathcal{L}})\n",
    "$$\n",
    "\n",
    "JaxSim provides two alternative methods to compute the forward dynamics:\n",
    "\n",
    "1. Operate on the quantities of the equations of motion.\n",
    "2. Call the recursive Articulated Body Algorithm (ABA).\n",
    "\n",
    "The physics engine provided by JaxSim exploits the efficient calculation of the forward dynamics with ABA for simulating the trajectories of the system dynamics."
   ]
  },
  {
   "cell_type": "code",
   "execution_count": null,
   "metadata": {
    "id": "LXARuRu1Ly1K"
   },
   "outputs": [],
   "source": [
    "ν̇_eom = jnp.linalg.pinv(M) @ (B @ τ - h + jnp.einsum(\"l6g,l6->g\", J, f_L))\n",
    "\n",
    "v̇_WB, s̈ = js.model.forward_dynamics_aba(\n",
    "    model=model, data=data, link_forces=f_L, joint_forces=joint_force_references\n",
    ")\n",
    "\n",
    "ν̇_aba = jnp.hstack([v̇_WB, s̈])\n",
    "print(f\"ν̇: shape={ν̇_aba.shape}\")  # noqa: RUF001\n",
    "\n",
    "# The following relation should hold.\n",
    "assert jnp.allclose(ν̇_eom, ν̇_aba)"
   ]
  },
  {
   "cell_type": "markdown",
   "metadata": {
    "colab": {
     "base_uri": "https://localhost:8080/"
    },
    "id": "g5GOYXDnLySU",
    "outputId": "ad4ce77d-d06f-473a-9c32-040680d76aa5"
   },
   "source": [
    "### Inverse Dynamics\n",
    "\n",
    "$$\n",
    "(\\boldsymbol{\\tau}, \\, \\mathbf{f}_B) = \\text{ID}(\\mathbf{q}, \\boldsymbol{\\nu}, \\dot{\\boldsymbol{\\nu}}, \\mathbf{f}_{\\mathcal{L}})\n",
    "$$\n",
    "\n",
    "JaxSim offers two methods to compute inverse dynamics:\n",
    "\n",
    "- Directly use the quantities from the equations of motion.\n",
    "- Use the Recursive Newton-Euler Algorithm (RNEA).\n",
    "\n",
    "Unlike many other implementations, JaxSim's RNEA for floating-base systems is the true inverse of $\\text{FD}$. It also computes the 6D force applied to the base link that generates the base acceleration."
   ]
  },
  {
   "cell_type": "code",
   "execution_count": null,
   "metadata": {
    "id": "UTae5MjhaP2H"
   },
   "outputs": [],
   "source": [
    "f_B, τ_rnea = js.model.inverse_dynamics(\n",
    "    model=model,\n",
    "    data=data,\n",
    "    base_acceleration=v̇_WB,\n",
    "    joint_accelerations=s̈,\n",
    "    # To check that f_B works, let's remove the force applied\n",
    "    # to the base link from the link forces.\n",
    "    link_forces=f_L.at[0].set(jnp.zeros(6))\n",
    ")\n",
    "\n",
    "print(f\"f_B:    shape={f_B.shape}\")\n",
    "print(f\"τ_rnea: shape={τ_rnea.shape}\")\n",
    "\n",
    "# The following relations should hold.\n",
    "assert jnp.allclose(τ_rnea, τ)\n",
    "assert jnp.allclose(f_B, link_forces[0])"
   ]
  },
  {
   "cell_type": "markdown",
   "metadata": {
    "colab": {
     "base_uri": "https://localhost:8080/"
    },
    "id": "gYZ1jK1Neg1H",
    "outputId": "0de79770-1e18-4027-bb47-5713bc1b4a72"
   },
   "source": [
    "### Centroidal Dynamics\n",
    "\n",
    "Centroidal dynamics is a useful simplification often employed in planning and control applications. It represents the dynamics projected onto a mixed frame associated with the center of mass (CoM):\n",
    "\n",
    "$$\n",
    "G = G[W] = ({}^W \\mathbf{p}_{\\text{CoM}}, [W])\n",
    ".\n",
    "$$\n",
    "\n",
    "The governing equations for centroidal dynamics take into account the 6D centroidal momentum:\n",
    "\n",
    "$$\n",
    "{}_G \\mathbf{h} =\n",
    "\\begin{bmatrix}\n",
    "{}_G \\mathbf{h}^l \\\\ {}_G \\mathbf{h}^\\omega\n",
    "\\end{bmatrix} =\n",
    "\\begin{bmatrix}\n",
    "m \\, {}^W \\dot{\\mathbf{p}}_\\text{CoM} \\\\ {}_G \\mathbf{h}^\\omega\n",
    "\\end{bmatrix}\n",
    "\\in \\mathbb{R}^6\n",
    ".\n",
    "$$\n",
    "\n",
    "The equations of centroidal dynamics can be expressed as:\n",
    "\n",
    "$$\n",
    "{}_G \\dot{\\mathbf{h}} =\n",
    "m \\,\n",
    "\\begin{bmatrix}\n",
    "{}^W \\mathbf{g} \\\\ \\mathbf{0}_3\n",
    "\\end{bmatrix} +\n",
    "\\sum_{C_i \\in \\mathcal{C}} {}_G \\mathbf{X}^{C_i} \\, {}_{C_i} \\mathbf{f}_i\n",
    ".\n",
    "$$\n",
    "\n",
    "While centroidal dynamics can function independently by considering the total mass $m \\in \\mathbb{R}$ of the robot and the transformations for 6D contact forces ${}_G \\mathbf{X}^{C_i}$ corresponding to the pose ${}^G \\mathbf{H}_{C_i} \\in \\text{SE}(3)$ of the contact frames, advanced kino-dynamic methods may require a relationship between full kinematics and centroidal dynamics. This is typically achieved through the _Centroidal Momentum Matrix_ (also known as the _centroidal momentum Jacobian_):\n",
    "\n",
    "$$\n",
    "{}_G \\mathbf{h} = J_\\text{CMM}(\\mathbf{q}) \\, \\boldsymbol{\\nu}\n",
    ".\n",
    "$$\n",
    "\n",
    "JaxSim offers APIs to compute all these quantities (and many more) in the `jaxsim.api.com` package."
   ]
  },
  {
   "cell_type": "code",
   "execution_count": null,
   "metadata": {
    "id": "rrSfxp8lh9YZ"
   },
   "outputs": [],
   "source": [
    "# Number of contact points.\n",
    "n_cp = len(model.kin_dyn_parameters.contact_parameters.body)\n",
    "print(\"Number of contact points:\", n_cp, \"\\n\")\n",
    "\n",
    "# Compute the centroidal momentum.\n",
    "J_CMM = js.com.centroidal_momentum_jacobian(model=model, data=data)\n",
    "G_h = J_CMM @ ν\n",
    "print(f\"G_h:    shape={G_h.shape}\")\n",
    "print(f\"J_CMM:  shape={J_CMM.shape}\")\n",
    "\n",
    "# The following relation should hold.\n",
    "assert jnp.allclose(G_h, js.com.centroidal_momentum(model=model, data=data))\n",
    "\n",
    "# If we consider all contact points of the model as active\n",
    "# (discourages since they might be too many), the 6D transforms of\n",
    "# collidable points can be computed as follows:\n",
    "W_H_C = js.contact.transforms(model=model, data=data)\n",
    "\n",
    "# Compute the pose of the G frame.\n",
    "W_p_CoM = js.com.com_position(model=model, data=data)\n",
    "G_H_W = jaxsim.math.Transform.inverse(jnp.eye(4).at[0:3, 3].set(W_p_CoM))\n",
    "\n",
    "# Convert from SE(3) to the transforms for 6D forces.\n",
    "G_Xf_C = jax.vmap(\n",
    "    lambda W_H_Ci: jaxsim.math.Adjoint.from_transform(\n",
    "        transform=G_H_W @ W_H_Ci, inverse=True\n",
    "    )\n",
    ")(W_H_C)\n",
    "print(f\"G_Xf_C: shape={G_Xf_C.shape}\")\n",
    "\n",
    "# Let's create random 3D linear forces applied to the contact points.\n",
    "C_fl = jax.random.uniform(\n",
    "    minval=-10.0,\n",
    "    maxval=10.0,\n",
    "    shape=(n_cp, 3),\n",
    "    key=jax.random.PRNGKey(0),\n",
    ")\n",
    "\n",
    "# Compute the 3D gravity vector and the total mass of the robot.\n",
    "m = js.model.total_mass(model=model)\n",
    "\n",
    "# The centroidal dynamics can be computed as follows.\n",
    "G_ḣ = 0\n",
    "G_ḣ += m * jnp.hstack([0, 0, model.gravity, 0, 0, 0])\n",
    "G_ḣ += jnp.einsum(\"c66,c6->6\", G_Xf_C, jnp.hstack([C_fl, jnp.zeros_like(C_fl)]))\n",
    "print(f\"G_ḣ:    shape={G_ḣ.shape}\")"
   ]
  },
  {
   "cell_type": "markdown",
   "metadata": {
    "colab": {
     "base_uri": "https://localhost:8080/"
    },
    "id": "Ot6HePB_twaE",
    "outputId": "02a6abae-257e-45ee-e9de-6a607cdbeb9a"
   },
   "source": [
    "## Contact Frames\n",
    "\n",
    "Many control and planning applications require projecting the floating-base dynamics into the contact space or computing quantities related to active contact points, such as enforcing holonomic constraints.\n",
    "\n",
    "The underlying theory for these applications becomes clearer in a mixed representation. Specifically, the position, linear velocity, and linear acceleration of contact points in their corresponding mixed frame align with the numerical derivatives of their coordinate vectors.\n",
    "\n",
    "Key methodologies in this area may involve the Delassus matrix:\n",
    "\n",
    "$$\n",
    "\\Psi(\\mathbf{q}) = J_{W,C}(\\mathbf{q}) \\, M(\\mathbf{q})^{-1} \\, J_{W,C}^T(\\mathbf{q})\n",
    "$$\n",
    "\n",
    "or the linear acceleration of a contact point:\n",
    "\n",
    "$$\n",
    "{}^W \\ddot{\\mathbf{p}}_C = \\frac{\\text{d} (J^l_{W,C} \\boldsymbol{\\nu})}{\\text{d}t}\n",
    "= \\dot{J}^l_{W,C} \\boldsymbol{\\nu} + J^l_{W,C} \\dot{\\boldsymbol{\\nu}}\n",
    ".\n",
    "$$\n",
    "\n",
    "JaxSim offers APIs to compute all these quantities (and many more) in the `jaxsim.api.contact` package."
   ]
  },
  {
   "cell_type": "code",
   "execution_count": null,
   "metadata": {
    "id": "LITRC3STliKR"
   },
   "outputs": [],
   "source": [
    "with (\n",
    "    data.switch_velocity_representation(VelRepr.Mixed),\n",
    "    references.switch_velocity_representation(VelRepr.Mixed),\n",
    "):\n",
    "\n",
    "    # Compute the mixed generalized velocity.\n",
    "    BW_ν = data.generalized_velocity\n",
    "\n",
    "    # Compute the mixed generalized acceleration.\n",
    "    BW_ν̇ = jnp.hstack(\n",
    "        js.model.forward_dynamics(\n",
    "            model=model,\n",
    "            data=data,\n",
    "            link_forces=references.link_forces(model=model, data=data),\n",
    "            joint_forces=references.joint_force_references(model=model),\n",
    "        )\n",
    "    )\n",
    "\n",
    "    # Compute the mass matrix in mixed representation.\n",
    "    BW_M = js.model.free_floating_mass_matrix(model=model, data=data)\n",
    "\n",
    "    # Compute the contact Jacobian and its derivative.\n",
    "    Jl_WC = js.contact.jacobian(model=model, data=data)[:, 0:3, :]\n",
    "    J̇l_WC = js.contact.jacobian_derivative(model=model, data=data)[:, 0:3, :]\n",
    "\n",
    "# Compute the Delassus matrix.\n",
    "Ψ = jnp.vstack(Jl_WC) @ jnp.linalg.lstsq(BW_M, jnp.vstack(Jl_WC).T)[0]\n",
    "print(f\"Ψ:     shape={Ψ.shape}\")\n",
    "\n",
    "# Compute the transforms of the mixed frames implicitly associated\n",
    "# to each collidable point.\n",
    "W_H_C = js.contact.transforms(model=model, data=data)\n",
    "print(f\"W_H_C: shape={W_H_C.shape}\")\n",
    "\n",
    "# Compute the linear velocity of the collidable points.\n",
    "with data.switch_velocity_representation(VelRepr.Mixed):\n",
    "    W_ṗ_B = js.contact.collidable_point_velocities(model=model, data=data)[:, 0:3]\n",
    "    print(f\"W_ṗ_B: shape={W_ṗ_B.shape}\")\n",
    "\n",
    "# Compute the linear acceleration of the collidable points.\n",
    "W_p̈_C = 0\n",
    "W_p̈_C += jnp.einsum(\"c3g,g->c3\", J̇l_WC, BW_ν)\n",
    "W_p̈_C += jnp.einsum(\"c3g,g->c3\", Jl_WC, BW_ν̇)\n",
    "print(f\"W_p̈_C: shape={W_p̈_C.shape}\")"
   ]
  },
  {
   "cell_type": "markdown",
   "metadata": {
    "id": "LITRC3STliKR"
   },
   "source": [
    "## Conclusions\n",
    "\n",
    "This notebook provided an overview of the main APIs in JaxSim for its use as a multibody dynamics library. Here are a few key points to remember:\n",
    "\n",
    "- Explore all the modules in the `jaxsim.api` package to discover the full range of APIs available. Many more functionalities exist beyond what was covered in this notebook.\n",
    "- All APIs follow a functional approach, consistent with the JAX programming style.\n",
    "- This functional design allows for easy application of `jax.vmap` to execute functions in parallel on hardware accelerators.\n",
    "- Since the entire multibody dynamics library is built with JAX, it natively supports `jax.grad`, `jax.jacfwd`, and `jax.jacrev` transformations, enabling automatic differentiation through complex logic without additional effort.\n",
    "\n",
    "Have fun!"
   ]
  }
 ],
 "metadata": {
  "accelerator": "GPU",
  "colab": {
   "gpuClass": "premium",
   "private_outputs": true,
   "provenance": [],
   "toc_visible": true
  },
  "kernelspec": {
   "display_name": "comodo_jaxsim",
   "language": "python",
   "name": "python3"
  },
  "language_info": {
   "codemirror_mode": {
    "name": "ipython",
    "version": 3
   },
   "file_extension": ".py",
   "mimetype": "text/x-python",
   "name": "python",
   "nbconvert_exporter": "python",
   "pygments_lexer": "ipython3",
   "version": "3.12.8"
  }
 },
 "nbformat": 4,
 "nbformat_minor": 0
}
